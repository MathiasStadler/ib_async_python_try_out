{
 "cells": [
  {
   "cell_type": "markdown",
   "metadata": {},
   "source": [
    "# ib_async get portfolio data and store to database daily"
   ]
  },
  {
   "cell_type": "markdown",
   "metadata": {},
   "source": [
    "## connect TWS - running local same computer - market is open"
   ]
  },
  {
   "cell_type": "markdown",
   "metadata": {},
   "source": [
    "## [import package][def]\n",
    "\n",
    "[def]: https://github.com/ib-api-reloaded/ib_async/blob/main/notebooks/basics.ipynb"
   ]
  },
  {
   "cell_type": "markdown",
   "metadata": {},
   "source": [
    "[Colored note boxes inside Jupyter notebooks](https://gist.github.com/DanielKotik/4b81480c479a57e0dd13ac4d153e4451)"
   ]
  },
  {
   "cell_type": "markdown",
   "metadata": {},
   "source": [
    "📝\n",
    "💀\n",
    "⚠️\n"
   ]
  },
  {
   "cell_type": "markdown",
   "metadata": {},
   "source": [
    "<div class=\"alert alert-block alert-info\">\n",
    "📝  Use blue boxes (alert-info) for tips and notes. \n",
    "If it’s a note, you don’t have to include the word “Note”.\n",
    "</div>"
   ]
  },
  {
   "cell_type": "markdown",
   "metadata": {},
   "source": [
    "<div class=\"alert alert-block alert-warning\">\n",
    "⚠️ Use blue boxes (alert-warning) for tips and warnings. \n",
    "If it’s a warning, you don’t have to include the word “Warning”.\n",
    "Warning with Icon ⚠️ =>\n",
    "</div>"
   ]
  },
  {
   "cell_type": "markdown",
   "metadata": {},
   "source": [
    "<div class=\"alert alert-block alert-success\"> \n",
    " 🎯 Success => \n",
    "</div>"
   ]
  },
  {
   "cell_type": "markdown",
   "metadata": {},
   "source": [
    "<div class=\"alert alert-block alert-warning\"> \n",
    " Warning => \n",
    " </div>"
   ]
  },
  {
   "cell_type": "markdown",
   "metadata": {},
   "source": [
    "<div class=\"alert alert-block alert-danger\">\n",
    "💀 Danger => AVOID \n",
    "</div>"
   ]
  },
  {
   "cell_type": "markdown",
   "metadata": {},
   "source": [
    "# import packages"
   ]
  },
  {
   "cell_type": "code",
   "execution_count": null,
   "metadata": {},
   "outputs": [],
   "source": [
    "import ib_async\n",
    "print(ib_async.__all__)"
   ]
  },
  {
   "cell_type": "markdown",
   "metadata": {},
   "source": [
    "<div class=\"alert alert-block alert-warning\"> \n",
    "⚠️ Importing\n",
    "The following two lines are used at the top of all **notebooks**.\n",
    "The first line imports everything and the second starts an event loop to keep the notebook live updated:\n",
    "</div>"
   ]
  },
  {
   "cell_type": "code",
   "execution_count": null,
   "metadata": {},
   "outputs": [],
   "source": [
    "from ib_async import *\n",
    "util.startLoop()"
   ]
  },
  {
   "cell_type": "markdown",
   "metadata": {},
   "source": [
    "# Connecting local TWS - running in paper mode port => 7496"
   ]
  },
  {
   "cell_type": "code",
   "execution_count": 76,
   "metadata": {},
   "outputs": [
    {
     "data": {
      "text/plain": [
       "<IB connected to 127.0.0.1:7496 clientId=12>"
      ]
     },
     "execution_count": 76,
     "metadata": {},
     "output_type": "execute_result"
    }
   ],
   "source": [
    "ib = IB()\n",
    "ib.connect('127.0.0.1', 7496, clientId=12)"
   ]
  },
  {
   "cell_type": "markdown",
   "metadata": {},
   "source": [
    "# get positions"
   ]
  },
  {
   "cell_type": "code",
   "execution_count": 77,
   "metadata": {},
   "outputs": [
    {
     "data": {
      "text/plain": [
       "[Position(account='DU5417029', contract=Option(conId=763248479, symbol='WSM', lastTradeDateOrContractMonth='20250417', strike=150.0, right='P', multiplier='100', currency='USD', localSymbol='WSM   250417P00150000', tradingClass='WSM'), position=1.0, avgCost=760.3067),\n",
       " Position(account='DU5417029', contract=Option(conId=755327783, symbol='BIDU', lastTradeDateOrContractMonth='20250516', strike=95.0, right='P', multiplier='100', currency='USD', localSymbol='BIDU  250516P00095000', tradingClass='BIDU'), position=-2.0, avgCost=429.6986),\n",
       " Position(account='DU5417029', contract=Option(conId=755327744, symbol='BIDU', lastTradeDateOrContractMonth='20250516', strike=90.0, right='P', multiplier='100', currency='USD', localSymbol='BIDU  250516P00090000', tradingClass='BIDU'), position=1.0, avgCost=283.6367),\n",
       " Position(account='DU5417029', contract=Option(conId=722886491, symbol='CTSH', lastTradeDateOrContractMonth='20250417', strike=75.0, right='P', multiplier='100', currency='USD', localSymbol='CTSH  250417P00075000', tradingClass='CTSH'), position=-3.0, avgCost=94.43793335),\n",
       " Position(account='DU5417029', contract=Option(conId=763248394, symbol='WSM', lastTradeDateOrContractMonth='20250417', strike=145.0, right='P', multiplier='100', currency='USD', localSymbol='WSM   250417P00145000', tradingClass='WSM'), position=-2.0, avgCost=510.0264),\n",
       " Position(account='DU5417029', contract=Option(conId=722886411, symbol='CTSH', lastTradeDateOrContractMonth='20250417', strike=72.5, right='P', multiplier='100', currency='USD', localSymbol='CTSH  250417P00072500', tradingClass='CTSH'), position=1.0, avgCost=61.0567)]"
      ]
     },
     "execution_count": 77,
     "metadata": {},
     "output_type": "execute_result"
    }
   ],
   "source": [
    "ib.positions()"
   ]
  },
  {
   "cell_type": "code",
   "execution_count": 75,
   "metadata": {},
   "outputs": [],
   "source": [
    "position_list = ib.positions()\n",
    "for position in position_list:\n",
    "    print(position)"
   ]
  },
  {
   "cell_type": "markdown",
   "metadata": {},
   "source": [
    "# extract the contract"
   ]
  },
  {
   "cell_type": "code",
   "execution_count": null,
   "metadata": {},
   "outputs": [],
   "source": [
    "# clean and optimize"
   ]
  },
  {
   "cell_type": "code",
   "execution_count": null,
   "metadata": {},
   "outputs": [],
   "source": [
    "position_list = ib.positions()\n",
    "\n",
    "position_list.sort(key=lambda x: x.contract.symbol, reverse=True)\n",
    "\n",
    "lastSymbol = None\n",
    "\n",
    "for position in position_list:\n",
    "    if ib_async.contract.Option == type(position.contract):\n",
    "\n",
    "        # not need\n",
    "        # option = position.contract\n",
    "\n",
    "        # onlySymbol = position.contract.localSymbol\n",
    "        # the .split() method for splitting a string into a LIST, split by space\n",
    "        # onlySymbol = onlySymbol.split()\n",
    "        # onlySymbol = onlySymbol[0]\n",
    "\n",
    "        # print(\"only Symbol => {} \".format(onlySymbol))\n",
    "        # print(\"localSymbol => {} \".format(position.contract.localSymbol))\n",
    "        \n",
    "        if position.contract.localSymbol == lastSymbol:\n",
    "        \n",
    "            print(\"lastSymbol the same\")\n",
    "        else:\n",
    "            print(\"option found => {}\".format(position.contract.localSymbol))\n",
    "            lastSymbol = position.contract.localSymbol\n",
    "\n",
    "        print(\"symbol {}\".format(position.contract.localSymbol))\n",
    "        print(\"strike {}\".format(position.contract.strike))\n",
    "\n",
    "    # else if\n",
    "    elif ib_async.contract.Stock == type(position.contract):\n",
    "        stock = position.contract\n",
    "        print(\"stock found => {}\".format(position.contract.localSymbol))\n",
    "\n",
    "    else:\n",
    "        print(\"no position to handle found\")\n",
    "        # raise error    "
   ]
  },
  {
   "cell_type": "markdown",
   "metadata": {},
   "source": [
    "# found [ratio put spread](https://www.captrader.com/glossar/ratio-put-spread/)\n",
    "# found ratio call spread\n",
    "# [Ratio Call Spread](https://www.captrader.com/glossar/ratio-call-spread/)"
   ]
  },
  {
   "cell_type": "markdown",
   "metadata": {},
   "source": [
    "# get account values - paper account"
   ]
  },
  {
   "cell_type": "code",
   "execution_count": null,
   "metadata": {},
   "outputs": [],
   "source": [
    "ib.accountValues() "
   ]
  },
  {
   "cell_type": "code",
   "execution_count": null,
   "metadata": {},
   "outputs": [],
   "source": [
    "[v for v in ib.accountValues() if v.tag == 'NetLiquidationByCurrency' and v.currency == 'BASE']"
   ]
  },
  {
   "cell_type": "markdown",
   "metadata": {},
   "source": []
  },
  {
   "cell_type": "code",
   "execution_count": null,
   "metadata": {},
   "outputs": [],
   "source": [
    "# Retrieve account information\n",
    "account_info = ib.accountSummary()\n",
    "\n",
    "# Print account information\n",
    "for item in account_info:\n",
    "    print(f\"{item.tag}: {item.value}\")"
   ]
  }
 ],
 "metadata": {
  "kernelspec": {
   "display_name": ".venv",
   "language": "python",
   "name": "python3"
  },
  "language_info": {
   "codemirror_mode": {
    "name": "ipython",
    "version": 3
   },
   "file_extension": ".py",
   "mimetype": "text/x-python",
   "name": "python",
   "nbconvert_exporter": "python",
   "pygments_lexer": "ipython3",
   "version": "3.11.2"
  }
 },
 "nbformat": 4,
 "nbformat_minor": 2
}
