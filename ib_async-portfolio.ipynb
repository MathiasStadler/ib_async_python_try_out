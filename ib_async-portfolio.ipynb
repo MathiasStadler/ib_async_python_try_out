{
 "cells": [
  {
   "cell_type": "markdown",
   "metadata": {},
   "source": [
    "# ib_async get portfolio data and store to database daily"
   ]
  },
  {
   "cell_type": "markdown",
   "metadata": {},
   "source": [
    "## connect TWS - running local same computer - market is open"
   ]
  },
  {
   "cell_type": "markdown",
   "metadata": {},
   "source": [
    "## [import package][def]\n",
    "\n",
    "[def]: https://github.com/ib-api-reloaded/ib_async/blob/main/notebooks/basics.ipynb"
   ]
  },
  {
   "cell_type": "markdown",
   "metadata": {},
   "source": [
    "[Colored note boxes inside Jupyter notebooks](https://gist.github.com/DanielKotik/4b81480c479a57e0dd13ac4d153e4451)"
   ]
  },
  {
   "cell_type": "markdown",
   "metadata": {},
   "source": [
    "📝\n",
    "💀\n",
    "⚠️\n"
   ]
  },
  {
   "cell_type": "markdown",
   "metadata": {},
   "source": [
    "<div class=\"alert alert-block alert-info\">\n",
    "📝  Use blue boxes (alert-info) for tips and notes. \n",
    "If it’s a note, you don’t have to include the word “Note”.\n",
    "</div>"
   ]
  },
  {
   "cell_type": "markdown",
   "metadata": {},
   "source": [
    "<div class=\"alert alert-block alert-warning\">\n",
    "⚠️ Use blue boxes (alert-warning) for tips and warnings. \n",
    "If it’s a warning, you don’t have to include the word “Warning”.\n",
    "Warning with Icon ⚠️ =>\n",
    "</div>"
   ]
  },
  {
   "cell_type": "markdown",
   "metadata": {},
   "source": [
    "<div class=\"alert alert-block alert-success\"> \n",
    " 🎯 Success => \n",
    "</div>"
   ]
  },
  {
   "cell_type": "markdown",
   "metadata": {},
   "source": [
    "<div class=\"alert alert-block alert-warning\"> \n",
    " Warning => \n",
    " </div>"
   ]
  },
  {
   "cell_type": "markdown",
   "metadata": {},
   "source": [
    "<div class=\"alert alert-block alert-danger\">\n",
    "💀 Danger => AVOID \n",
    "</div>"
   ]
  },
  {
   "cell_type": "markdown",
   "metadata": {},
   "source": [
    "# import packages"
   ]
  },
  {
   "cell_type": "code",
   "execution_count": null,
   "metadata": {},
   "outputs": [],
   "source": [
    "import ib_async\n",
    "print(ib_async.__all__)"
   ]
  },
  {
   "cell_type": "code",
   "execution_count": null,
   "metadata": {},
   "outputs": [],
   "source": [
    "from ibapi.common import TickerId, SetOfFloat, SetOfString, MarketDataTypeEnum"
   ]
  },
  {
   "cell_type": "markdown",
   "metadata": {},
   "source": [
    "<div class=\"alert alert-block alert-warning\"> \n",
    "⚠️ Importing\n",
    "The following two lines are used at the top of all **notebooks**.\n",
    "The first line imports everything and the second starts an event loop to keep the notebook live updated:\n",
    "</div>"
   ]
  },
  {
   "cell_type": "code",
   "execution_count": null,
   "metadata": {},
   "outputs": [],
   "source": [
    "from ib_async import *\n",
    "util.startLoop()"
   ]
  },
  {
   "cell_type": "markdown",
   "metadata": {},
   "source": [
    "# Connecting local TWS - running in paper mode port => 7496"
   ]
  },
  {
   "cell_type": "code",
   "execution_count": null,
   "metadata": {},
   "outputs": [
    {
     "name": "stderr",
     "output_type": "stream",
     "text": [
      "Error 1100, reqId -1: Connectivity between %SHORT_COMPNAME% and %SHORT_PRODNAME% has been lost.\n",
      "Error 1100, reqId -1: Connectivity between %SHORT_COMPNAME% and %SHORT_PRODNAME% has been lost.\n",
      "Error 1100, reqId -1: Connectivity between %SHORT_COMPNAME% and %SHORT_PRODNAME% has been lost.\n",
      "Error 1102, reqId -1: Connectivity between %SHORT_COMPNAME% and %SHORT_PRODNAME% has been restored - data maintained. Verbindung zu allen Datenzentren hergestellt: usfarm.nj; eufarm; cashfarm; usopt; eufarmnj; usfarm; ushmds; secdefnj.\n"
     ]
    }
   ],
   "source": [
    "ib = IB()\n",
    "ib.connect('127.0.0.1', 7496, clientId=14)\n",
    "ib.reqMarketDataType(MarketDataTypeEnum.DELAYED)\n"
   ]
  },
  {
   "cell_type": "markdown",
   "metadata": {},
   "source": [
    "# disconnect"
   ]
  },
  {
   "cell_type": "code",
   "execution_count": null,
   "metadata": {},
   "outputs": [],
   "source": [
    "ib.disconnect()"
   ]
  },
  {
   "cell_type": "markdown",
   "metadata": {},
   "source": [
    "# get positions"
   ]
  },
  {
   "cell_type": "code",
   "execution_count": null,
   "metadata": {},
   "outputs": [],
   "source": [
    "ib.positions()"
   ]
  },
  {
   "cell_type": "code",
   "execution_count": null,
   "metadata": {},
   "outputs": [],
   "source": [
    "position_list = ib.positions()\n",
    "for position in position_list:\n",
    "    print(position)"
   ]
  },
  {
   "cell_type": "markdown",
   "metadata": {},
   "source": [
    "# extract the contract"
   ]
  },
  {
   "cell_type": "code",
   "execution_count": null,
   "metadata": {},
   "outputs": [],
   "source": [
    "# clean and optimize"
   ]
  },
  {
   "cell_type": "markdown",
   "metadata": {},
   "source": [
    "# imports"
   ]
  },
  {
   "cell_type": "code",
   "execution_count": null,
   "metadata": {},
   "outputs": [],
   "source": [
    "from datetime import datetime, date"
   ]
  },
  {
   "cell_type": "markdown",
   "metadata": {},
   "source": [
    "# [FROM HERE](https://www.statology.org/how-to-implement-a-date-countdown-timer-in-python/)"
   ]
  },
  {
   "cell_type": "code",
   "execution_count": null,
   "metadata": {},
   "outputs": [],
   "source": [
    "def days_until(target_date):\n",
    "    today = date.today()\n",
    "    delta = target_date - today\n",
    "    return delta.days"
   ]
  },
  {
   "cell_type": "markdown",
   "metadata": {},
   "source": [
    "# [convert string to data](https://www.educative.io/answers/how-to-convert-a-string-to-a-date-in-python)"
   ]
  },
  {
   "cell_type": "code",
   "execution_count": null,
   "metadata": {},
   "outputs": [],
   "source": [
    "\n",
    "def daytoexpired(datetime):\n",
    "    dateTimeObj = datetime.strptime(lastTradeDateOrContractMonth, \"%Y%m%d\")\n",
    "    print(f\"Date as {type(dateTimeObj)} is {dateTimeObj}\")"
   ]
  },
  {
   "cell_type": "code",
   "execution_count": 34,
   "metadata": {},
   "outputs": [
    {
     "ename": "AttributeError",
     "evalue": "'str' object has no attribute 'strptime'",
     "output_type": "error",
     "traceback": [
      "\u001b[31m---------------------------------------------------------------------------\u001b[39m",
      "\u001b[31mAttributeError\u001b[39m                            Traceback (most recent call last)",
      "\u001b[36mCell\u001b[39m\u001b[36m \u001b[39m\u001b[32mIn[34]\u001b[39m\u001b[32m, line 4\u001b[39m\n\u001b[32m      1\u001b[39m \u001b[38;5;66;03m# test daytoexpired(daytime)\u001b[39;00m\n\u001b[32m      2\u001b[39m lastTradeDateOrContractMonth=\u001b[33m'\u001b[39m\u001b[33m20250417\u001b[39m\u001b[33m'\u001b[39m\n\u001b[32m----> \u001b[39m\u001b[32m4\u001b[39m \u001b[43mdaytoexpired\u001b[49m\u001b[43m(\u001b[49m\u001b[43mlastTradeDateOrContractMonth\u001b[49m\u001b[43m)\u001b[49m\n",
      "\u001b[36mCell\u001b[39m\u001b[36m \u001b[39m\u001b[32mIn[32]\u001b[39m\u001b[32m, line 2\u001b[39m, in \u001b[36mdaytoexpired\u001b[39m\u001b[34m(datetime)\u001b[39m\n\u001b[32m      1\u001b[39m \u001b[38;5;28;01mdef\u001b[39;00m\u001b[38;5;250m \u001b[39m\u001b[34mdaytoexpired\u001b[39m(datetime):\n\u001b[32m----> \u001b[39m\u001b[32m2\u001b[39m     dateTimeObj = \u001b[43mdatetime\u001b[49m\u001b[43m.\u001b[49m\u001b[43mstrptime\u001b[49m(lastTradeDateOrContractMonth, \u001b[33m\"\u001b[39m\u001b[33m%\u001b[39m\u001b[33mY\u001b[39m\u001b[33m%\u001b[39m\u001b[33mm\u001b[39m\u001b[38;5;132;01m%d\u001b[39;00m\u001b[33m\"\u001b[39m)\n\u001b[32m      3\u001b[39m     \u001b[38;5;28mprint\u001b[39m(\u001b[33mf\u001b[39m\u001b[33m\"\u001b[39m\u001b[33mDate as \u001b[39m\u001b[38;5;132;01m{\u001b[39;00m\u001b[38;5;28mtype\u001b[39m(dateTimeObj)\u001b[38;5;132;01m}\u001b[39;00m\u001b[33m is \u001b[39m\u001b[38;5;132;01m{\u001b[39;00mdateTimeObj\u001b[38;5;132;01m}\u001b[39;00m\u001b[33m\"\u001b[39m)\n",
      "\u001b[31mAttributeError\u001b[39m: 'str' object has no attribute 'strptime'"
     ]
    }
   ],
   "source": [
    "# test daytoexpired(daytime)\n",
    "lastTradeDateOrContractMonth='20250417'\n",
    "\n",
    "daytoexpired(lastTradeDateOrContractMonth)"
   ]
  },
  {
   "cell_type": "code",
   "execution_count": null,
   "metadata": {},
   "outputs": [],
   "source": []
  },
  {
   "cell_type": "markdown",
   "metadata": {},
   "source": [
    "# test days_util"
   ]
  },
  {
   "cell_type": "code",
   "execution_count": null,
   "metadata": {},
   "outputs": [],
   "source": [
    "# future_date = date(2025, 1, 1)\n",
    "future_date = dateTimeObj.date()\n",
    "days_left = days_until(future_date)\n",
    "print(f\"Days until {future_date}: {days_left}\")"
   ]
  },
  {
   "cell_type": "code",
   "execution_count": null,
   "metadata": {},
   "outputs": [],
   "source": [
    "position_list = ib.positions()\n",
    "\n",
    "position_list.sort(key=lambda x: x.contract.symbol, reverse=True)\n",
    "\n",
    "lastSymbol = None\n",
    "\n",
    "for position in position_list:\n",
    "    if ib_async.contract.Option == type(position.contract):\n",
    "\n",
    "        # not need\n",
    "        # option = position.contract\n",
    "\n",
    "        # onlySymbol = position.contract.localSymbol\n",
    "        # the .split() method for splitting a string into a LIST, split by space\n",
    "        # onlySymbol = onlySymbol.split()\n",
    "        # onlySymbol = onlySymbol[0]\n",
    "\n",
    "        # print(\"only Symbol => {} \".format(onlySymbol))\n",
    "        # print(\"localSymbol => {} \".format(position.contract.localSymbol))\n",
    "        \n",
    "        if position.contract.localSymbol == lastSymbol:\n",
    "        \n",
    "            print(\"lastSymbol the same\")\n",
    "        else:\n",
    "            # print(\"option found => {}\".format(position.contract.localSymbol))\n",
    "            lastSymbol = position.contract.localSymbol\n",
    "\n",
    "        # print(\"symbol {}\".format(position.contract.localSymbol))\n",
    "        # print(\"strike {}\".format(position.contract.strike))\n",
    "        # print(\"right strike stk {} {} {}\".format(position.contract.right,position.contract.strike,position.position))\n",
    "        print(\" {} {} {} {}\".format(position.contract.localSymbol,position.contract.right,position.contract.strike,position.position))\n",
    "        # print(\"expired {}\".format(position.contract.lastTradeDateOrContractMonth))\n",
    "        print(\" {} {} {} {} {}\".format(position.contract.localSymbol,position.contract.right,position.contract.strike,position.position,position.contract.lastTradeDateOrContractMonth))\n",
    "        future_date = position.contract.lastTradeDateOrContractMonth\n",
    "        days_left = days_until(future_date)\n",
    "        print(f\"Days until {future_date}: {days_left}\")\n",
    "\n",
    "    # else if\n",
    "    elif ib_async.contract.Stock == type(position.contract):\n",
    "        stock = position.contract\n",
    "        print(\"stock found => {}\".format(position.contract.localSymbol))\n",
    "\n",
    "    else:\n",
    "        print(\"no position to handle found\")\n",
    "        # raise error    "
   ]
  },
  {
   "cell_type": "markdown",
   "metadata": {},
   "source": [
    "# found [ratio put spread](https://www.captrader.com/glossar/ratio-put-spread/)\n",
    "# found ratio call spread\n",
    "# [Ratio Call Spread](https://www.captrader.com/glossar/ratio-call-spread/)"
   ]
  },
  {
   "cell_type": "markdown",
   "metadata": {},
   "source": [
    "# get account values - paper account"
   ]
  },
  {
   "cell_type": "code",
   "execution_count": null,
   "metadata": {},
   "outputs": [],
   "source": [
    "ib.accountValues() "
   ]
  },
  {
   "cell_type": "code",
   "execution_count": null,
   "metadata": {},
   "outputs": [],
   "source": [
    "[v for v in ib.accountValues() if v.tag == 'NetLiquidationByCurrency' and v.currency == 'BASE']"
   ]
  },
  {
   "cell_type": "markdown",
   "metadata": {},
   "source": []
  },
  {
   "cell_type": "code",
   "execution_count": null,
   "metadata": {},
   "outputs": [],
   "source": [
    "# Retrieve account information\n",
    "account_info = ib.accountSummary()\n",
    "\n",
    "# Print account information\n",
    "for item in account_info:\n",
    "    print(f\"{item.tag}: {item.value}\")"
   ]
  }
 ],
 "metadata": {
  "kernelspec": {
   "display_name": ".venv",
   "language": "python",
   "name": "python3"
  },
  "language_info": {
   "codemirror_mode": {
    "name": "ipython",
    "version": 3
   },
   "file_extension": ".py",
   "mimetype": "text/x-python",
   "name": "python",
   "nbconvert_exporter": "python",
   "pygments_lexer": "ipython3",
   "version": "3.11.2"
  }
 },
 "nbformat": 4,
 "nbformat_minor": 2
}
