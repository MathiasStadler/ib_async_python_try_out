{
 "cells": [
  {
   "cell_type": "markdown",
   "metadata": {},
   "source": [
    "# ib_async get portfolio data and store to database daily"
   ]
  },
  {
   "cell_type": "markdown",
   "metadata": {},
   "source": [
    "## connect TWS - running local same computer - market is open"
   ]
  },
  {
   "cell_type": "markdown",
   "metadata": {},
   "source": [
    "## [import package][def]\n",
    "\n",
    "[def]: https://github.com/ib-api-reloaded/ib_async/blob/main/notebooks/basics.ipynb"
   ]
  },
  {
   "cell_type": "markdown",
   "metadata": {},
   "source": [
    "[Colored note boxes inside Jupyter notebooks](https://gist.github.com/DanielKotik/4b81480c479a57e0dd13ac4d153e4451)"
   ]
  },
  {
   "cell_type": "markdown",
   "metadata": {},
   "source": [
    "📝\n",
    "💀\n",
    "⚠️\n"
   ]
  },
  {
   "cell_type": "markdown",
   "metadata": {},
   "source": [
    "<div class=\"alert alert-block alert-info\">\n",
    "📝  Use blue boxes (alert-info) for tips and notes. \n",
    "If it’s a note, you don’t have to include the word “Note”.\n",
    "</div>"
   ]
  },
  {
   "cell_type": "markdown",
   "metadata": {},
   "source": [
    "<div class=\"alert alert-block alert-warning\">\n",
    "⚠️ Use blue boxes (alert-warning) for tips and warnings. \n",
    "If it’s a warning, you don’t have to include the word “Warning”.\n",
    "Warning with Icon ⚠️ =>\n",
    "</div>"
   ]
  },
  {
   "cell_type": "markdown",
   "metadata": {},
   "source": [
    "<div class=\"alert alert-block alert-success\"> \n",
    " 🎯 Success => \n",
    "</div>"
   ]
  },
  {
   "cell_type": "markdown",
   "metadata": {},
   "source": [
    "<div class=\"alert alert-block alert-warning\"> \n",
    " Warning => \n",
    " </div>"
   ]
  },
  {
   "cell_type": "markdown",
   "metadata": {},
   "source": [
    "<div class=\"alert alert-block alert-danger\">\n",
    "💀 Danger => AVOID \n",
    "</div>"
   ]
  },
  {
   "cell_type": "markdown",
   "metadata": {},
   "source": [
    "# import packages"
   ]
  },
  {
   "cell_type": "code",
   "execution_count": null,
   "metadata": {},
   "outputs": [],
   "source": [
    "import ib_async\n",
    "print(ib_async.__all__)"
   ]
  },
  {
   "cell_type": "markdown",
   "metadata": {},
   "source": [
    "<div class=\"alert alert-block alert-warning\"> \n",
    "⚠️ Importing\n",
    "The following two lines are used at the top of all **notebooks**.\n",
    "The first line imports everything and the second starts an event loop to keep the notebook live updated:\n",
    "</div>"
   ]
  },
  {
   "cell_type": "code",
   "execution_count": null,
   "metadata": {},
   "outputs": [],
   "source": [
    "from ib_async import *\n",
    "util.startLoop()"
   ]
  },
  {
   "cell_type": "markdown",
   "metadata": {},
   "source": [
    "# Connecting local TWS - running in paper mode port => 7496"
   ]
  },
  {
   "cell_type": "code",
   "execution_count": null,
   "metadata": {},
   "outputs": [],
   "source": [
    "ib = IB()\n",
    "ib.connect('127.0.0.1', 7496, clientId=10)"
   ]
  },
  {
   "cell_type": "markdown",
   "metadata": {},
   "source": [
    "# get positions"
   ]
  },
  {
   "cell_type": "code",
   "execution_count": null,
   "metadata": {},
   "outputs": [],
   "source": [
    "ib.positions()"
   ]
  },
  {
   "cell_type": "markdown",
   "metadata": {},
   "source": []
  },
  {
   "cell_type": "markdown",
   "metadata": {},
   "source": [
    "# get account values - paper account"
   ]
  },
  {
   "cell_type": "code",
   "execution_count": null,
   "metadata": {},
   "outputs": [],
   "source": [
    "ib.accountValues() "
   ]
  },
  {
   "cell_type": "code",
   "execution_count": null,
   "metadata": {},
   "outputs": [],
   "source": [
    "[v for v in ib.accountValues() if v.tag == 'NetLiquidationByCurrency' and v.currency == 'BASE']"
   ]
  },
  {
   "cell_type": "markdown",
   "metadata": {},
   "source": []
  },
  {
   "cell_type": "code",
   "execution_count": 12,
   "metadata": {},
   "outputs": [
    {
     "name": "stdout",
     "output_type": "stream",
     "text": [
      "AccountType: INDIVIDUAL\n",
      "Cushion: 0.00599896\n",
      "LookAheadNextChange: 1744142400\n",
      "AccruedCash: 0.00\n",
      "AvailableFunds: -2264.30\n",
      "BuyingPower: 0.00\n",
      "EquityWithLoanValue: 15325.89\n",
      "ExcessLiquidity: 91.94\n",
      "FullAvailableFunds: -2264.30\n",
      "FullExcessLiquidity: 91.94\n",
      "FullInitMarginReq: 17590.19\n",
      "FullMaintMarginReq: 15233.95\n",
      "GrossPositionValue: 44679.86\n",
      "InitMarginReq: 17590.19\n",
      "LookAheadAvailableFunds: -2264.30\n",
      "LookAheadExcessLiquidity: 91.94\n",
      "LookAheadInitMarginReq: 17590.19\n",
      "LookAheadMaintMarginReq: 15233.95\n",
      "MaintMarginReq: 15233.95\n",
      "NetLiquidation: 15325.89\n",
      "TotalCashValue: 37963.59\n",
      "Currency: EUR\n",
      "CashBalance: 20010.78\n",
      "TotalCashBalance: 20010.78\n",
      "AccruedCash: 0.00\n",
      "StockMarketValue: 0.00\n",
      "OptionMarketValue: 0.00\n",
      "FutureOptionValue: 0.00\n",
      "FuturesPNL: 0.00\n",
      "NetLiquidationByCurrency: 20010.78\n",
      "UnrealizedPnL: 0.00\n",
      "RealizedPnL: 0.00\n",
      "ExchangeRate: 1.00\n",
      "FundValue: 0.00\n",
      "NetDividend: 0.00\n",
      "MutualFundValue: 0.00\n",
      "MoneyMarketFundValue: 0.00\n",
      "CorporateBondValue: 0.00\n",
      "TBondValue: 0.00\n",
      "TBillValue: 0.00\n",
      "WarrantValue: 0.00\n",
      "FxCashBalance: 0.00\n",
      "AccountOrGroup: All\n",
      "RealCurrency: EUR\n",
      "IssuerOptionValue: 0.00\n",
      "Cryptocurrency: \n",
      "Currency: USD\n",
      "CashBalance: 19571.44\n",
      "TotalCashBalance: 19571.44\n",
      "AccruedCash: 0.00\n",
      "StockMarketValue: -20989.07\n",
      "OptionMarketValue: -3689.65\n",
      "FutureOptionValue: 0.00\n",
      "FuturesPNL: 0.00\n",
      "NetLiquidationByCurrency: -5107.2764\n",
      "UnrealizedPnL: -4333.97\n",
      "RealizedPnL: 0.00\n",
      "ExchangeRate: 0.9172965\n",
      "FundValue: 0.00\n",
      "NetDividend: 0.00\n",
      "MutualFundValue: 0.00\n",
      "MoneyMarketFundValue: 0.00\n",
      "CorporateBondValue: 0.00\n",
      "TBondValue: 0.00\n",
      "TBillValue: 0.00\n",
      "WarrantValue: 0.00\n",
      "FxCashBalance: 0.00\n",
      "AccountOrGroup: All\n",
      "RealCurrency: USD\n",
      "IssuerOptionValue: 0.00\n",
      "Cryptocurrency: \n",
      "Currency: BASE\n",
      "CashBalance: 37963.5941\n",
      "TotalCashBalance: 37963.5941\n",
      "AccruedCash: 0.00\n",
      "StockMarketValue: -19253.20\n",
      "OptionMarketValue: -3384.50\n",
      "FutureOptionValue: 0.00\n",
      "FuturesPNL: 0.00\n",
      "NetLiquidationByCurrency: 15325.893\n",
      "UnrealizedPnL: -3975.53\n",
      "RealizedPnL: 0.00\n",
      "ExchangeRate: 1.00\n",
      "FundValue: 0.00\n",
      "NetDividend: 0.00\n",
      "MutualFundValue: 0.00\n",
      "MoneyMarketFundValue: 0.00\n",
      "CorporateBondValue: 0.00\n",
      "TBondValue: 0.00\n",
      "TBillValue: 0.00\n",
      "WarrantValue: 0.00\n",
      "FxCashBalance: 0.00\n",
      "AccountOrGroup: All\n",
      "RealCurrency: BASE\n",
      "IssuerOptionValue: 0.00\n",
      "Cryptocurrency: \n"
     ]
    }
   ],
   "source": [
    "# Retrieve account information\n",
    "account_info = ib.accountSummary()\n",
    "\n",
    "# Print account information\n",
    "for item in account_info:\n",
    "    print(f\"{item.tag}: {item.value}\")"
   ]
  }
 ],
 "metadata": {
  "kernelspec": {
   "display_name": ".venv",
   "language": "python",
   "name": "python3"
  },
  "language_info": {
   "codemirror_mode": {
    "name": "ipython",
    "version": 3
   },
   "file_extension": ".py",
   "mimetype": "text/x-python",
   "name": "python",
   "nbconvert_exporter": "python",
   "pygments_lexer": "ipython3",
   "version": "3.11.2"
  }
 },
 "nbformat": 4,
 "nbformat_minor": 2
}
