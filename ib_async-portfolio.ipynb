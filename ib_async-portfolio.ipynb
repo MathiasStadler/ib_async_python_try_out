{
 "cells": [
  {
   "cell_type": "markdown",
   "metadata": {},
   "source": [
    "# ib_async get portfolio data and store to database daily"
   ]
  },
  {
   "cell_type": "markdown",
   "metadata": {},
   "source": [
    "## connect TWS - running local same computer - market is open"
   ]
  },
  {
   "cell_type": "markdown",
   "metadata": {},
   "source": [
    "## [import package][def]\n",
    "\n",
    "[def]: https://github.com/ib-api-reloaded/ib_async/blob/main/notebooks/basics.ipynb"
   ]
  },
  {
   "cell_type": "markdown",
   "metadata": {},
   "source": [
    "[Colored note boxes inside Jupyter notebooks](https://gist.github.com/DanielKotik/4b81480c479a57e0dd13ac4d153e4451)"
   ]
  },
  {
   "cell_type": "markdown",
   "metadata": {},
   "source": [
    "📝\n",
    "💀\n",
    "⚠️\n"
   ]
  },
  {
   "cell_type": "markdown",
   "metadata": {},
   "source": [
    "<div class=\"alert alert-block alert-info\">\n",
    "📝  Use blue boxes (alert-info) for tips and notes. \n",
    "If it’s a note, you don’t have to include the word “Note”.\n",
    "</div>"
   ]
  },
  {
   "cell_type": "markdown",
   "metadata": {},
   "source": [
    "<div class=\"alert alert-block alert-warning\">\n",
    "⚠️ Use blue boxes (alert-warning) for tips and warnings. \n",
    "If it’s a warning, you don’t have to include the word “Warning”.\n",
    "Warning with Icon ⚠️ =>\n",
    "</div>"
   ]
  },
  {
   "cell_type": "markdown",
   "metadata": {},
   "source": [
    "<div class=\"alert alert-block alert-success\"> \n",
    " 🎯 Success => \n",
    "</div>"
   ]
  },
  {
   "cell_type": "markdown",
   "metadata": {},
   "source": [
    "<div class=\"alert alert-block alert-warning\"> \n",
    " Warning => \n",
    " </div>"
   ]
  },
  {
   "cell_type": "markdown",
   "metadata": {},
   "source": [
    "<div class=\"alert alert-block alert-danger\">\n",
    "💀 Danger => AVOID \n",
    "</div>"
   ]
  },
  {
   "cell_type": "markdown",
   "metadata": {},
   "source": [
    "# import packages"
   ]
  },
  {
   "cell_type": "code",
   "execution_count": null,
   "metadata": {},
   "outputs": [],
   "source": [
    "import ib_async\n",
    "print(ib_async.__all__)"
   ]
  },
  {
   "cell_type": "code",
   "execution_count": 23,
   "metadata": {},
   "outputs": [],
   "source": [
    "from ibapi.common import TickerId, SetOfFloat, SetOfString, MarketDataTypeEnum"
   ]
  },
  {
   "cell_type": "markdown",
   "metadata": {},
   "source": [
    "<div class=\"alert alert-block alert-warning\"> \n",
    "⚠️ Importing\n",
    "The following two lines are used at the top of all **notebooks**.\n",
    "The first line imports everything and the second starts an event loop to keep the notebook live updated:\n",
    "</div>"
   ]
  },
  {
   "cell_type": "code",
   "execution_count": 24,
   "metadata": {},
   "outputs": [],
   "source": [
    "from ib_async import *\n",
    "util.startLoop()"
   ]
  },
  {
   "cell_type": "markdown",
   "metadata": {},
   "source": [
    "# Connecting local TWS - running in paper mode port => 7496"
   ]
  },
  {
   "cell_type": "code",
   "execution_count": 26,
   "metadata": {},
   "outputs": [],
   "source": [
    "ib = IB()\n",
    "ib.connect('127.0.0.1', 7496, clientId=14)\n",
    "ib.reqMarketDataType(MarketDataTypeEnum.DELAYED)\n"
   ]
  },
  {
   "cell_type": "markdown",
   "metadata": {},
   "source": [
    "# disconnect"
   ]
  },
  {
   "cell_type": "code",
   "execution_count": 21,
   "metadata": {},
   "outputs": [],
   "source": [
    "ib.disconnect()"
   ]
  },
  {
   "cell_type": "markdown",
   "metadata": {},
   "source": [
    "# get positions"
   ]
  },
  {
   "cell_type": "code",
   "execution_count": 4,
   "metadata": {},
   "outputs": [
    {
     "data": {
      "text/plain": [
       "[Position(account='DU5417029', contract=Option(conId=763248479, symbol='WSM', lastTradeDateOrContractMonth='20250417', strike=150.0, right='P', multiplier='100', currency='USD', localSymbol='WSM   250417P00150000', tradingClass='WSM'), position=1.0, avgCost=760.3067),\n",
       " Position(account='DU5417029', contract=Option(conId=755327783, symbol='BIDU', lastTradeDateOrContractMonth='20250516', strike=95.0, right='P', multiplier='100', currency='USD', localSymbol='BIDU  250516P00095000', tradingClass='BIDU'), position=-2.0, avgCost=429.6986),\n",
       " Position(account='DU5417029', contract=Option(conId=755327744, symbol='BIDU', lastTradeDateOrContractMonth='20250516', strike=90.0, right='P', multiplier='100', currency='USD', localSymbol='BIDU  250516P00090000', tradingClass='BIDU'), position=1.0, avgCost=283.6367),\n",
       " Position(account='DU5417029', contract=Option(conId=763248394, symbol='WSM', lastTradeDateOrContractMonth='20250417', strike=145.0, right='P', multiplier='100', currency='USD', localSymbol='WSM   250417P00145000', tradingClass='WSM'), position=-2.0, avgCost=510.0264),\n",
       " Position(account='DU5417029', contract=Option(conId=722886411, symbol='CTSH', lastTradeDateOrContractMonth='20250417', strike=72.5, right='P', multiplier='100', currency='USD', localSymbol='CTSH  250417P00072500', tradingClass='CTSH'), position=1.0, avgCost=61.0567),\n",
       " Position(account='DU5417029', contract=Option(conId=722886491, symbol='CTSH', lastTradeDateOrContractMonth='20250417', strike=75.0, right='P', multiplier='100', currency='USD', localSymbol='CTSH  250417P00075000', tradingClass='CTSH'), position=-3.0, avgCost=94.43793335)]"
      ]
     },
     "execution_count": 4,
     "metadata": {},
     "output_type": "execute_result"
    }
   ],
   "source": [
    "ib.positions()"
   ]
  },
  {
   "cell_type": "code",
   "execution_count": 5,
   "metadata": {},
   "outputs": [
    {
     "name": "stdout",
     "output_type": "stream",
     "text": [
      "Position(account='DU5417029', contract=Option(conId=763248479, symbol='WSM', lastTradeDateOrContractMonth='20250417', strike=150.0, right='P', multiplier='100', currency='USD', localSymbol='WSM   250417P00150000', tradingClass='WSM'), position=1.0, avgCost=760.3067)\n",
      "Position(account='DU5417029', contract=Option(conId=755327783, symbol='BIDU', lastTradeDateOrContractMonth='20250516', strike=95.0, right='P', multiplier='100', currency='USD', localSymbol='BIDU  250516P00095000', tradingClass='BIDU'), position=-2.0, avgCost=429.6986)\n",
      "Position(account='DU5417029', contract=Option(conId=755327744, symbol='BIDU', lastTradeDateOrContractMonth='20250516', strike=90.0, right='P', multiplier='100', currency='USD', localSymbol='BIDU  250516P00090000', tradingClass='BIDU'), position=1.0, avgCost=283.6367)\n",
      "Position(account='DU5417029', contract=Option(conId=763248394, symbol='WSM', lastTradeDateOrContractMonth='20250417', strike=145.0, right='P', multiplier='100', currency='USD', localSymbol='WSM   250417P00145000', tradingClass='WSM'), position=-2.0, avgCost=510.0264)\n",
      "Position(account='DU5417029', contract=Option(conId=722886411, symbol='CTSH', lastTradeDateOrContractMonth='20250417', strike=72.5, right='P', multiplier='100', currency='USD', localSymbol='CTSH  250417P00072500', tradingClass='CTSH'), position=1.0, avgCost=61.0567)\n",
      "Position(account='DU5417029', contract=Option(conId=722886491, symbol='CTSH', lastTradeDateOrContractMonth='20250417', strike=75.0, right='P', multiplier='100', currency='USD', localSymbol='CTSH  250417P00075000', tradingClass='CTSH'), position=-3.0, avgCost=94.43793335)\n"
     ]
    }
   ],
   "source": [
    "position_list = ib.positions()\n",
    "for position in position_list:\n",
    "    print(position)"
   ]
  },
  {
   "cell_type": "markdown",
   "metadata": {},
   "source": [
    "# extract the contract"
   ]
  },
  {
   "cell_type": "code",
   "execution_count": null,
   "metadata": {},
   "outputs": [],
   "source": [
    "# clean and optimize"
   ]
  },
  {
   "cell_type": "markdown",
   "metadata": {},
   "source": [
    "# imports"
   ]
  },
  {
   "cell_type": "code",
   "execution_count": null,
   "metadata": {},
   "outputs": [],
   "source": [
    "from datetime import datetime, date"
   ]
  },
  {
   "cell_type": "markdown",
   "metadata": {},
   "source": [
    "# [FROM HERE](https://www.statology.org/how-to-implement-a-date-countdown-timer-in-python/)"
   ]
  },
  {
   "cell_type": "code",
   "execution_count": 19,
   "metadata": {},
   "outputs": [],
   "source": [
    "def days_until(target_date):\n",
    "    today = date.today()\n",
    "    delta = target_date - today\n",
    "    return delta.days"
   ]
  },
  {
   "cell_type": "markdown",
   "metadata": {},
   "source": [
    "# [convert string to data](https://www.educative.io/answers/how-to-convert-a-string-to-a-date-in-python)"
   ]
  },
  {
   "cell_type": "code",
   "execution_count": 28,
   "metadata": {},
   "outputs": [
    {
     "name": "stdout",
     "output_type": "stream",
     "text": [
      "Date as <class 'datetime.datetime'> is 2025-04-17 00:00:00\n"
     ]
    }
   ],
   "source": [
    "lastTradeDateOrContractMonth='20250417'\n",
    "\n",
    "dateTimeObj = datetime.strptime(lastTradeDateOrContractMonth, \"%Y%m%d\")\n",
    "print(f\"Date as {type(dateTimeObj)} is {dateTimeObj}\")"
   ]
  },
  {
   "cell_type": "markdown",
   "metadata": {},
   "source": [
    "# test days_util"
   ]
  },
  {
   "cell_type": "code",
   "execution_count": 30,
   "metadata": {},
   "outputs": [
    {
     "name": "stdout",
     "output_type": "stream",
     "text": [
      "Days until 2025-04-17: 8\n"
     ]
    }
   ],
   "source": [
    "# future_date = date(2025, 1, 1)\n",
    "future_date = dateTimeObj.date()\n",
    "days_left = days_until(future_date)\n",
    "print(f\"Days until {future_date}: {days_left}\")"
   ]
  },
  {
   "cell_type": "code",
   "execution_count": null,
   "metadata": {},
   "outputs": [
    {
     "name": "stdout",
     "output_type": "stream",
     "text": [
      " WSM   250417P00150000 P 150.0 1.0\n",
      " WSM   250417P00150000 P 150.0 1.0 20250417\n"
     ]
    },
    {
     "ename": "TypeError",
     "evalue": "unsupported operand type(s) for -: 'str' and 'datetime.date'",
     "output_type": "error",
     "traceback": [
      "\u001b[31m---------------------------------------------------------------------------\u001b[39m",
      "\u001b[31mTypeError\u001b[39m                                 Traceback (most recent call last)",
      "\u001b[36mCell\u001b[39m\u001b[36m \u001b[39m\u001b[32mIn[17]\u001b[39m\u001b[32m, line 45\u001b[39m\n\u001b[32m     43\u001b[39m     \u001b[38;5;28mprint\u001b[39m(\u001b[33m\"\u001b[39m\u001b[33m \u001b[39m\u001b[38;5;132;01m{}\u001b[39;00m\u001b[33m \u001b[39m\u001b[38;5;132;01m{}\u001b[39;00m\u001b[33m \u001b[39m\u001b[38;5;132;01m{}\u001b[39;00m\u001b[33m \u001b[39m\u001b[38;5;132;01m{}\u001b[39;00m\u001b[33m \u001b[39m\u001b[38;5;132;01m{}\u001b[39;00m\u001b[33m\"\u001b[39m.format(position.contract.localSymbol,position.contract.right,position.contract.strike,position.position,position.contract.lastTradeDateOrContractMonth))\n\u001b[32m     44\u001b[39m     future_date = position.contract.lastTradeDateOrContractMonth\n\u001b[32m---> \u001b[39m\u001b[32m45\u001b[39m     days_left = \u001b[43mdays_until\u001b[49m\u001b[43m(\u001b[49m\u001b[43mfuture_date\u001b[49m\u001b[43m)\u001b[49m\n\u001b[32m     46\u001b[39m     \u001b[38;5;28mprint\u001b[39m(\u001b[33mf\u001b[39m\u001b[33m\"\u001b[39m\u001b[33mDays until \u001b[39m\u001b[38;5;132;01m{\u001b[39;00mfuture_date\u001b[38;5;132;01m}\u001b[39;00m\u001b[33m: \u001b[39m\u001b[38;5;132;01m{\u001b[39;00mdays_left\u001b[38;5;132;01m}\u001b[39;00m\u001b[33m\"\u001b[39m)\n\u001b[32m     48\u001b[39m \u001b[38;5;66;03m# else if\u001b[39;00m\n",
      "\u001b[36mCell\u001b[39m\u001b[36m \u001b[39m\u001b[32mIn[17]\u001b[39m\u001b[32m, line 6\u001b[39m, in \u001b[36mdays_until\u001b[39m\u001b[34m(target_date)\u001b[39m\n\u001b[32m      4\u001b[39m \u001b[38;5;28;01mdef\u001b[39;00m\u001b[38;5;250m \u001b[39m\u001b[34mdays_until\u001b[39m(target_date):\n\u001b[32m      5\u001b[39m     today = date.today()\n\u001b[32m----> \u001b[39m\u001b[32m6\u001b[39m     delta = \u001b[43mtarget_date\u001b[49m\u001b[43m \u001b[49m\u001b[43m-\u001b[49m\u001b[43m \u001b[49m\u001b[43mtoday\u001b[49m\n\u001b[32m      7\u001b[39m     \u001b[38;5;28;01mreturn\u001b[39;00m delta.days\n",
      "\u001b[31mTypeError\u001b[39m: unsupported operand type(s) for -: 'str' and 'datetime.date'"
     ]
    }
   ],
   "source": [
    "position_list = ib.positions()\n",
    "\n",
    "position_list.sort(key=lambda x: x.contract.symbol, reverse=True)\n",
    "\n",
    "lastSymbol = None\n",
    "\n",
    "for position in position_list:\n",
    "    if ib_async.contract.Option == type(position.contract):\n",
    "\n",
    "        # not need\n",
    "        # option = position.contract\n",
    "\n",
    "        # onlySymbol = position.contract.localSymbol\n",
    "        # the .split() method for splitting a string into a LIST, split by space\n",
    "        # onlySymbol = onlySymbol.split()\n",
    "        # onlySymbol = onlySymbol[0]\n",
    "\n",
    "        # print(\"only Symbol => {} \".format(onlySymbol))\n",
    "        # print(\"localSymbol => {} \".format(position.contract.localSymbol))\n",
    "        \n",
    "        if position.contract.localSymbol == lastSymbol:\n",
    "        \n",
    "            print(\"lastSymbol the same\")\n",
    "        else:\n",
    "            # print(\"option found => {}\".format(position.contract.localSymbol))\n",
    "            lastSymbol = position.contract.localSymbol\n",
    "\n",
    "        # print(\"symbol {}\".format(position.contract.localSymbol))\n",
    "        # print(\"strike {}\".format(position.contract.strike))\n",
    "        # print(\"right strike stk {} {} {}\".format(position.contract.right,position.contract.strike,position.position))\n",
    "        print(\" {} {} {} {}\".format(position.contract.localSymbol,position.contract.right,position.contract.strike,position.position))\n",
    "        # print(\"expired {}\".format(position.contract.lastTradeDateOrContractMonth))\n",
    "        print(\" {} {} {} {} {}\".format(position.contract.localSymbol,position.contract.right,position.contract.strike,position.position,position.contract.lastTradeDateOrContractMonth))\n",
    "        future_date = position.contract.lastTradeDateOrContractMonth\n",
    "        days_left = days_until(future_date)\n",
    "        print(f\"Days until {future_date}: {days_left}\")\n",
    "\n",
    "    # else if\n",
    "    elif ib_async.contract.Stock == type(position.contract):\n",
    "        stock = position.contract\n",
    "        print(\"stock found => {}\".format(position.contract.localSymbol))\n",
    "\n",
    "    else:\n",
    "        print(\"no position to handle found\")\n",
    "        # raise error    "
   ]
  },
  {
   "cell_type": "markdown",
   "metadata": {},
   "source": [
    "# found [ratio put spread](https://www.captrader.com/glossar/ratio-put-spread/)\n",
    "# found ratio call spread\n",
    "# [Ratio Call Spread](https://www.captrader.com/glossar/ratio-call-spread/)"
   ]
  },
  {
   "cell_type": "markdown",
   "metadata": {},
   "source": [
    "# get account values - paper account"
   ]
  },
  {
   "cell_type": "code",
   "execution_count": null,
   "metadata": {},
   "outputs": [],
   "source": [
    "ib.accountValues() "
   ]
  },
  {
   "cell_type": "code",
   "execution_count": null,
   "metadata": {},
   "outputs": [],
   "source": [
    "[v for v in ib.accountValues() if v.tag == 'NetLiquidationByCurrency' and v.currency == 'BASE']"
   ]
  },
  {
   "cell_type": "markdown",
   "metadata": {},
   "source": []
  },
  {
   "cell_type": "code",
   "execution_count": null,
   "metadata": {},
   "outputs": [],
   "source": [
    "# Retrieve account information\n",
    "account_info = ib.accountSummary()\n",
    "\n",
    "# Print account information\n",
    "for item in account_info:\n",
    "    print(f\"{item.tag}: {item.value}\")"
   ]
  }
 ],
 "metadata": {
  "kernelspec": {
   "display_name": ".venv",
   "language": "python",
   "name": "python3"
  },
  "language_info": {
   "codemirror_mode": {
    "name": "ipython",
    "version": 3
   },
   "file_extension": ".py",
   "mimetype": "text/x-python",
   "name": "python",
   "nbconvert_exporter": "python",
   "pygments_lexer": "ipython3",
   "version": "3.11.2"
  }
 },
 "nbformat": 4,
 "nbformat_minor": 2
}
