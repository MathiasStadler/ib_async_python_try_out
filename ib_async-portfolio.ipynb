{
 "cells": [
  {
   "cell_type": "markdown",
   "metadata": {},
   "source": [
    "# ib_async get portfolio data and store to database daily"
   ]
  },
  {
   "cell_type": "markdown",
   "metadata": {},
   "source": [
    "## connect TWS - running local same computer - market is open"
   ]
  },
  {
   "cell_type": "markdown",
   "metadata": {},
   "source": [
    "## [import package][def]\n",
    "\n",
    "[def]: https://github.com/ib-api-reloaded/ib_async/blob/main/notebooks/basics.ipynb"
   ]
  },
  {
   "cell_type": "markdown",
   "metadata": {},
   "source": [
    "[Colored note boxes inside Jupyter notebooks](https://gist.github.com/DanielKotik/4b81480c479a57e0dd13ac4d153e4451)"
   ]
  },
  {
   "cell_type": "markdown",
   "metadata": {},
   "source": [
    "📝\n",
    "💀\n",
    "⚠️\n"
   ]
  },
  {
   "cell_type": "markdown",
   "metadata": {},
   "source": [
    "<div class=\"alert alert-block alert-info\">\n",
    "📝  Use blue boxes (alert-info) for tips and notes. \n",
    "If it’s a note, you don’t have to include the word “Note”.\n",
    "</div>"
   ]
  },
  {
   "cell_type": "markdown",
   "metadata": {},
   "source": [
    "<div class=\"alert alert-block alert-warning\">\n",
    "⚠️ Use blue boxes (alert-warning) for tips and warnings. \n",
    "If it’s a warning, you don’t have to include the word “Warning”.\n",
    "Warning with Icon ⚠️ =>\n",
    "</div>"
   ]
  },
  {
   "cell_type": "markdown",
   "metadata": {},
   "source": [
    "<div class=\"alert alert-block alert-success\"> \n",
    " 🎯 Success => \n",
    "</div>"
   ]
  },
  {
   "cell_type": "markdown",
   "metadata": {},
   "source": [
    "<div class=\"alert alert-block alert-warning\"> \n",
    " Warning => \n",
    " </div>"
   ]
  },
  {
   "cell_type": "markdown",
   "metadata": {},
   "source": [
    "<div class=\"alert alert-block alert-danger\">\n",
    "💀 Danger => AVOID \n",
    "</div>"
   ]
  },
  {
   "cell_type": "markdown",
   "metadata": {},
   "source": [
    "# import packages"
   ]
  },
  {
   "cell_type": "code",
   "execution_count": null,
   "metadata": {},
   "outputs": [],
   "source": [
    "import ib_async\n",
    "print(ib_async.__all__)"
   ]
  },
  {
   "cell_type": "code",
   "execution_count": null,
   "metadata": {},
   "outputs": [],
   "source": [
    "from ibapi.common import TickerId, SetOfFloat, SetOfString, MarketDataTypeEnum"
   ]
  },
  {
   "cell_type": "markdown",
   "metadata": {},
   "source": [
    "<div class=\"alert alert-block alert-warning\"> \n",
    "⚠️ Importing\n",
    "The following two lines are used at the top of all **notebooks**.\n",
    "The first line imports everything and the second starts an event loop to keep the notebook live updated:\n",
    "</div>"
   ]
  },
  {
   "cell_type": "code",
   "execution_count": null,
   "metadata": {},
   "outputs": [],
   "source": [
    "from ib_async import *\n",
    "util.startLoop()"
   ]
  },
  {
   "cell_type": "markdown",
   "metadata": {},
   "source": [
    "# Connecting local TWS - running in paper mode port => 7496"
   ]
  },
  {
   "cell_type": "code",
   "execution_count": null,
   "metadata": {},
   "outputs": [],
   "source": [
    "ib = IB()\n",
    "ib.connect('127.0.0.1', 7496, clientId=14)\n",
    "ib.reqMarketDataType(MarketDataTypeEnum.DELAYED)\n"
   ]
  },
  {
   "cell_type": "markdown",
   "metadata": {},
   "source": [
    "# disconnect"
   ]
  },
  {
   "cell_type": "code",
   "execution_count": null,
   "metadata": {},
   "outputs": [],
   "source": [
    "ib.disconnect()"
   ]
  },
  {
   "cell_type": "markdown",
   "metadata": {},
   "source": [
    "# get positions"
   ]
  },
  {
   "cell_type": "code",
   "execution_count": null,
   "metadata": {},
   "outputs": [],
   "source": [
    "ib.positions()"
   ]
  },
  {
   "cell_type": "code",
   "execution_count": null,
   "metadata": {},
   "outputs": [],
   "source": [
    "position_list = ib.positions()\n",
    "for position in position_list:\n",
    "    print(position)"
   ]
  },
  {
   "cell_type": "markdown",
   "metadata": {},
   "source": [
    "# extract the contract"
   ]
  },
  {
   "cell_type": "code",
   "execution_count": null,
   "metadata": {},
   "outputs": [],
   "source": [
    "# clean and optimize"
   ]
  },
  {
   "cell_type": "markdown",
   "metadata": {},
   "source": [
    "# imports"
   ]
  },
  {
   "cell_type": "code",
   "execution_count": null,
   "metadata": {},
   "outputs": [],
   "source": [
    "from datetime import datetime, date"
   ]
  },
  {
   "cell_type": "markdown",
   "metadata": {},
   "source": [
    "# [FROM HERE](https://www.statology.org/how-to-implement-a-date-countdown-timer-in-python/)"
   ]
  },
  {
   "cell_type": "code",
   "execution_count": null,
   "metadata": {},
   "outputs": [],
   "source": [
    "def days_until(target_date):\n",
    "    today = date.today()\n",
    "    delta = target_date - today\n",
    "    return delta.days"
   ]
  },
  {
   "cell_type": "markdown",
   "metadata": {},
   "source": [
    "# [convert string to data](https://www.educative.io/answers/how-to-convert-a-string-to-a-date-in-python)"
   ]
  },
  {
   "cell_type": "code",
   "execution_count": null,
   "metadata": {},
   "outputs": [],
   "source": [
    "\n",
    "def daytoexpired(datetime):\n",
    "    dateTimeObj = datetime.strptime(lastTradeDateOrContractMonth, \"%Y%m%d\")\n",
    "    print(f\"Date as {type(dateTimeObj)} is {dateTimeObj}\")"
   ]
  },
  {
   "cell_type": "code",
   "execution_count": null,
   "metadata": {},
   "outputs": [],
   "source": [
    "# test daytoexpired(daytime)\n",
    "lastTradeDateOrContractMonth='20250417'\n",
    "\n",
    "daytoexpired(lastTradeDateOrContractMonth)"
   ]
  },
  {
   "cell_type": "code",
   "execution_count": null,
   "metadata": {},
   "outputs": [],
   "source": []
  },
  {
   "cell_type": "markdown",
   "metadata": {},
   "source": [
    "# test days_util"
   ]
  },
  {
   "cell_type": "code",
   "execution_count": null,
   "metadata": {},
   "outputs": [],
   "source": [
    "# future_date = date(2025, 1, 1)\n",
    "future_date = dateTimeObj.date()\n",
    "days_left = days_until(future_date)\n",
    "print(f\"Days until {future_date}: {days_left}\")"
   ]
  },
  {
   "cell_type": "code",
   "execution_count": null,
   "metadata": {},
   "outputs": [],
   "source": [
    "position_list = ib.positions()\n",
    "\n",
    "position_list.sort(key=lambda x: x.contract.symbol, reverse=True)\n",
    "\n",
    "lastSymbol = None\n",
    "\n",
    "for position in position_list:\n",
    "    if ib_async.contract.Option == type(position.contract):\n",
    "\n",
    "        # not need\n",
    "        # option = position.contract\n",
    "\n",
    "        # onlySymbol = position.contract.localSymbol\n",
    "        # the .split() method for splitting a string into a LIST, split by space\n",
    "        # onlySymbol = onlySymbol.split()\n",
    "        # onlySymbol = onlySymbol[0]\n",
    "\n",
    "        # print(\"only Symbol => {} \".format(onlySymbol))\n",
    "        # print(\"localSymbol => {} \".format(position.contract.localSymbol))\n",
    "        \n",
    "        if position.contract.localSymbol == lastSymbol:\n",
    "        \n",
    "            print(\"lastSymbol the same\")\n",
    "        else:\n",
    "            # print(\"option found => {}\".format(position.contract.localSymbol))\n",
    "            lastSymbol = position.contract.localSymbol\n",
    "\n",
    "        # print(\"symbol {}\".format(position.contract.localSymbol))\n",
    "        # print(\"strike {}\".format(position.contract.strike))\n",
    "        # print(\"right strike stk {} {} {}\".format(position.contract.right,position.contract.strike,position.position))\n",
    "        print(\" {} {} {} {}\".format(position.contract.localSymbol,position.contract.right,position.contract.strike,position.position))\n",
    "        # print(\"expired {}\".format(position.contract.lastTradeDateOrContractMonth))\n",
    "        print(\" {} {} {} {} {}\".format(position.contract.localSymbol,position.contract.right,position.contract.strike,position.position,position.contract.lastTradeDateOrContractMonth))\n",
    "        future_date = position.contract.lastTradeDateOrContractMonth\n",
    "        days_left = days_until(future_date)\n",
    "        print(f\"Days until {future_date}: {days_left}\")\n",
    "\n",
    "    # else if\n",
    "    elif ib_async.contract.Stock == type(position.contract):\n",
    "        stock = position.contract\n",
    "        print(\"stock found => {}\".format(position.contract.localSymbol))\n",
    "\n",
    "    else:\n",
    "        print(\"no position to handle found\")\n",
    "        # raise error    "
   ]
  },
  {
   "cell_type": "markdown",
   "metadata": {},
   "source": [
    "# found [ratio put spread](https://www.captrader.com/glossar/ratio-put-spread/)\n",
    "# found ratio call spread\n",
    "# [Ratio Call Spread](https://www.captrader.com/glossar/ratio-call-spread/)"
   ]
  },
  {
   "cell_type": "markdown",
   "metadata": {},
   "source": [
    "# get account values - paper account"
   ]
  },
  {
   "cell_type": "code",
   "execution_count": null,
   "metadata": {},
   "outputs": [],
   "source": [
    "ib.accountValues() "
   ]
  },
  {
   "cell_type": "code",
   "execution_count": null,
   "metadata": {},
   "outputs": [],
   "source": [
    "[v for v in ib.accountValues() if v.tag == 'NetLiquidationByCurrency' and v.currency == 'BASE']"
   ]
  },
  {
   "cell_type": "markdown",
   "metadata": {},
   "source": []
  },
  {
   "cell_type": "code",
   "execution_count": null,
   "metadata": {},
   "outputs": [],
   "source": [
    "# Retrieve account information\n",
    "account_info = ib.accountSummary()\n",
    "\n",
    "# Print account information\n",
    "for item in account_info:\n",
    "    print(f\"{item.tag}: {item.value}\")"
   ]
  }
 ],
 "metadata": {
  "kernelspec": {
   "display_name": ".venv",
   "language": "python",
   "name": "python3"
  },
  "language_info": {
   "codemirror_mode": {
    "name": "ipython",
    "version": 3
   },
   "file_extension": ".py",
   "mimetype": "text/x-python",
   "name": "python",
   "nbconvert_exporter": "python",
   "pygments_lexer": "ipython3",
   "version": "3.11.2"
  }
 },
 "nbformat": 4,
 "nbformat_minor": 2
}
