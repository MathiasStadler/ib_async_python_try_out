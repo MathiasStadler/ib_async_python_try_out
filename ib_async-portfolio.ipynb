{
 "cells": [
  {
   "cell_type": "markdown",
   "metadata": {},
   "source": [
    "# ib_async get portfolio data and store to database daily"
   ]
  },
  {
   "cell_type": "markdown",
   "metadata": {},
   "source": [
    "## connect TWS - running local same computer - market is open"
   ]
  },
  {
   "cell_type": "markdown",
   "metadata": {},
   "source": [
    "## [import package][def]\n",
    "\n",
    "[def]: https://github.com/ib-api-reloaded/ib_async/blob/main/notebooks/basics.ipynb"
   ]
  },
  {
   "cell_type": "markdown",
   "metadata": {},
   "source": [
    "!note During the first run of this will vscode install necessary "
   ]
  },
  {
   "cell_type": "markdown",
   "metadata": {},
   "source": [
    "<div class=\"alert alert-block alert-info\">\n",
    "⚠️ Use blue boxes (alert-info) for tips and notes. \n",
    "If it’s a note, you don’t have to include the word “Note”.\n",
    "</div>"
   ]
  },
  {
   "cell_type": "markdown",
   "metadata": {},
   "source": [
    "<div class=\"alert alert-block alert-waning\">\n",
    "⚠️ Use blue boxes (alert-info) for tips and notes. \n",
    "If it’s a note, you don’t have to include the word “Warning”.\n",
    "</div>"
   ]
  },
  {
   "cell_type": "code",
   "execution_count": 5,
   "metadata": {},
   "outputs": [
    {
     "name": "stdout",
     "output_type": "stream",
     "text": [
      "['Event', 'util', 'Client', 'Bag', 'Bond', 'CFD', 'ComboLeg', 'Commodity', 'ContFuture', 'Contract', 'ContractDescription', 'ContractDetails', 'Crypto', 'DeltaNeutralContract', 'Forex', 'Future', 'FuturesOption', 'Index', 'MutualFund', 'Option', 'ScanData', 'Stock', 'TagValue', 'Warrant', 'FlexError', 'FlexReport', 'IB', 'IBC', 'Watchdog', 'AccountValue', 'BarData', 'BarDataList', 'CommissionReport', 'ConnectionStats', 'DOMLevel', 'DepthMktDataDescription', 'Dividends', 'Execution', 'ExecutionFilter', 'FamilyCode', 'Fill', 'FundamentalRatios', 'HistogramData', 'HistoricalNews', 'HistoricalTick', 'HistoricalTickBidAsk', 'HistoricalTickLast', 'HistoricalSchedule', 'HistoricalSession', 'MktDepthData', 'NewsArticle', 'NewsBulletin', 'NewsProvider', 'NewsTick', 'OptionChain', 'OptionComputation', 'PnL', 'PnLSingle', 'PortfolioItem', 'Position', 'PriceIncrement', 'RealTimeBar', 'RealTimeBarList', 'ScanDataList', 'ScannerSubscription', 'SmartComponent', 'SoftDollarTier', 'TickAttrib', 'TickAttribBidAsk', 'TickAttribLast', 'TickByTickAllLast', 'WshEventData', 'TickByTickBidAsk', 'TickByTickMidPoint', 'TickData', 'TradeLogEntry', 'BracketOrder', 'ExecutionCondition', 'LimitOrder', 'MarginCondition', 'MarketOrder', 'Order', 'OrderComboLeg', 'OrderCondition', 'OrderState', 'OrderStatus', 'PercentChangeCondition', 'PriceCondition', 'StopLimitOrder', 'StopOrder', 'TimeCondition', 'Trade', 'VolumeCondition', 'Ticker', '__version__', '__version_info__', 'RequestError', 'Wrapper', 'StartupFetch', 'StartupFetchALL', 'StartupFetchNONE']\n"
     ]
    }
   ],
   "source": [
    "import ib_async\n",
    "print(ib_async.__all__)"
   ]
  }
 ],
 "metadata": {
  "kernelspec": {
   "display_name": ".venv",
   "language": "python",
   "name": "python3"
  },
  "language_info": {
   "codemirror_mode": {
    "name": "ipython",
    "version": 3
   },
   "file_extension": ".py",
   "mimetype": "text/x-python",
   "name": "python",
   "nbconvert_exporter": "python",
   "pygments_lexer": "ipython3",
   "version": "3.11.2"
  }
 },
 "nbformat": 4,
 "nbformat_minor": 2
}
