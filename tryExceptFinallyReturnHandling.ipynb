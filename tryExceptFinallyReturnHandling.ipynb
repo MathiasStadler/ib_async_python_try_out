{
 "cells": [
  {
   "cell_type": "markdown",
   "metadata": {},
   "source": [
    "# show the mechanism of try/Except/Finally/Return Handling"
   ]
  },
  {
   "cell_type": "markdown",
   "metadata": {},
   "source": [
    "```bash\n",
    "\n",
    "date\n",
    "    Thu Apr 10 00:00:00 PM CEST 2025\n",
    "\n",
    "cat /etc/os-release \n",
    "    PRETTY_NAME=\"Debian GNU/Linux 12 (bookworm)\"\n",
    "    NAME=\"Debian GNU/Linux\"\n",
    "    VERSION_ID=\"12\"\n",
    "    VERSION=\"12 (bookworm)\"\n",
    "    VERSION_CODENAME=bookworm\n",
    "    ID=debian\n",
    "\n",
    "python3 --version\n",
    "    Python 3.11.2 \n",
    "```"
   ]
  },
  {
   "cell_type": "markdown",
   "metadata": {},
   "source": [
    "[logging — Logging facility for Python](https://docs.python.org/3.11/library/logging.html#module-logging)"
   ]
  },
  {
   "cell_type": "code",
   "execution_count": null,
   "metadata": {},
   "outputs": [],
   "source": [
    "import logging\n",
    "\n",
    "logger = logging.getLogger(__name__)\n",
    "\n",
    "def main():\n",
    "    # logging.basicConfig(filename='myapp.log', level=logging.INFO)\n",
    "    logging.basicConfig(filename='myapp.log',level=logging.INFO, format='%(asctime)s - %(levelname)s - %(message)s')\n",
    "    logging.debug(\"This is a debug message\")\n",
    "    logging.info(\"This is an info message\")\n",
    "    logging.warning(\"This is a warning message\")\n",
    "    logging.error(\"This is an error message\")\n",
    "    logging.critical(\"This is a critical message\")\n",
    "        \n",
    "    logger.info('Started')\n",
    "    logger.info('working')\n",
    "    logger.info('Finished')\n",
    "\n",
    "if __name__ == '__main__':\n",
    "    main()"
   ]
  },
  {
   "cell_type": "code",
   "execution_count": 14,
   "metadata": {},
   "outputs": [],
   "source": [
    "main()"
   ]
  },
  {
   "cell_type": "code",
   "execution_count": null,
   "metadata": {},
   "outputs": [],
   "source": [
    "## simple block from {here)[https://docs.python.org/3.11/tutorial/errors.html]"
   ]
  },
  {
   "cell_type": "code",
   "execution_count": 4,
   "metadata": {},
   "outputs": [
    {
     "data": {
      "text/plain": [
       "False"
      ]
     },
     "execution_count": 4,
     "metadata": {},
     "output_type": "execute_result"
    }
   ],
   "source": [
    "def bool_return():\n",
    "    try:\n",
    "        return True\n",
    "    finally:\n",
    "        return False\n",
    "\n",
    "bool_return()"
   ]
  }
 ],
 "metadata": {
  "kernelspec": {
   "display_name": ".venv",
   "language": "python",
   "name": "python3"
  },
  "language_info": {
   "codemirror_mode": {
    "name": "ipython",
    "version": 3
   },
   "file_extension": ".py",
   "mimetype": "text/x-python",
   "name": "python",
   "nbconvert_exporter": "python",
   "pygments_lexer": "ipython3",
   "version": "3.11.2"
  }
 },
 "nbformat": 4,
 "nbformat_minor": 2
}
