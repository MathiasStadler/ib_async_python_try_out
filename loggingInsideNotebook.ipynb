{
 "cells": [
  {
   "cell_type": "markdown",
   "metadata": {},
   "source": [
    "```bash\n",
    "date\n",
    "    Thu Apr 10 00:00:00 PM CEST 2025\n",
    "\n",
    "cat /etc/os-release \n",
    "    PRETTY_NAME=\"Debian GNU/Linux 12 (bookworm)\"\n",
    "    NAME=\"Debian GNU/Linux\"\n",
    "    VERSION_ID=\"12\"\n",
    "    VERSION=\"12 (bookworm)\"\n",
    "    VERSION_CODENAME=bookworm\n",
    "    ID=debian\n",
    "\n",
    "python3 --version\n",
    "    Python 3.11.2 \n",
    "```"
   ]
  },
  {
   "cell_type": "markdown",
   "metadata": {},
   "source": [
    "[logging — Logging facility for Python](https://docs.python.org/3.11/library/logging.html#module-logging)\n",
    "[python logging in jupyter notebooks](https://www.mineo.app/blog-page/python-logging-in-jupyter-notebooks)"
   ]
  }
 ],
 "metadata": {
  "language_info": {
   "name": "python"
  }
 },
 "nbformat": 4,
 "nbformat_minor": 2
}
