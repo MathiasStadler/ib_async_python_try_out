{
 "cells": [
  {
   "cell_type": "markdown",
   "metadata": {},
   "source": [
    "# env"
   ]
  },
  {
   "cell_type": "markdown",
   "metadata": {},
   "source": [
    "```bash\n",
    "date\n",
    "    Thu Apr 10 00:00:00 PM CEST 2025\n",
    "\n",
    "cat /etc/os-release \n",
    "    PRETTY_NAME=\"Debian GNU/Linux 12 (bookworm)\"\n",
    "    NAME=\"Debian GNU/Linux\"\n",
    "    VERSION_ID=\"12\"\n",
    "    VERSION=\"12 (bookworm)\"\n",
    "    VERSION_CODENAME=bookworm\n",
    "    ID=debian\n",
    "\n",
    "python3 --version\n",
    "    Python 3.11.2 \n",
    "```"
   ]
  },
  {
   "cell_type": "markdown",
   "metadata": {},
   "source": [
    "## google search results\n",
    "- [logging — Logging facility for Python](https://docs.python.org/3.11/library/logging.html#module-logging)\n",
    "- [python logging in jupyter notebooks](https://www.mineo.app/blog-page/python-logging-in-jupyter-notebooks)"
   ]
  },
  {
   "cell_type": "markdown",
   "metadata": {},
   "source": [
    "## first simple example\n",
    "\n",
    "<div class=\"alert alert-block alert-warning\"> \n",
    "⚠️ We will see the DEBUG message is missing\n",
    "</div>"
   ]
  },
  {
   "cell_type": "code",
   "execution_count": null,
   "metadata": {},
   "outputs": [],
   "source": [
    "import logging\n",
    "\n",
    "# logging.basicConfig(level=logging.INFO,  encoding='utf-8',format='%(asctime)s - %(levelname)s %(filename)s %(linenumber)s - %(message)s')\n",
    "logging.basicConfig(level=logging.INFO,  encoding='utf-8',\n",
    "                    format='%(asctime)s - %(levelname)s - %(message)s')\n",
    "\n",
    "logging.debug(\"This is a debug message\")\n",
    "logging.info(\"This is an info message\")\n",
    "logging.warning(\"This is a warning message\")\n",
    "logging.error(\"This is an error message\")\n",
    "logging.critical(\"This is a critical message\")"
   ]
  },
  {
   "cell_type": "markdown",
   "metadata": {},
   "source": [
    "> [Sure, check formatters in logging docs. Specifically the lineno and pathname variables.](https://stackoverflow.com/questions/533048/how-to-log-source-file-name-and-line-number-in-python)\n",
    "\n",
    "> - %(pathname)s Full pathname of the source file where the logging call was issued(if available).\n",
    "> - %(filename)s Filename portion of pathname.\n",
    "> - %(module)s Module (name portion of filename).\n",
    "> - %(funcName)s Name of function containing the logging call.\n",
    "> - %(lineno)d Source line number where the logging call was issued (if available).\n",
    "> - Looks something like this:\n",
    ">   ```python\n",
    ">   formatter = logging.Formatter('[%(asctime)s] p%(process)s {%(pathname)s:%(lineno)d} %(levelname)s - %(message)s','%m-%d %H:%M:%S')\n",
    ">   ```"
   ]
  },
  {
   "cell_type": "markdown",
   "metadata": {},
   "source": [
    "# enable debug message \n",
    "\n",
    "<div class=\"alert alert-block alert-info\">\n",
    "📝  These both lines of code enable the logging.debug message\n",
    "\n",
    "```python\n",
    "logger = logging.getLogger()\n",
    "logger.setLevel(logging.DEBUG)\n",
    "```\n",
    "\n",
    "</div>\n",
    "\n",
    "## answer found here\n",
    "  - [Discussions on Python.org: No debug messages going into log file](https://discuss.python.org/t/no-debug-messages-going-into-log-file/57897/15)"
   ]
  },
  {
   "cell_type": "code",
   "execution_count": null,
   "metadata": {},
   "outputs": [],
   "source": [
    "import logging\n",
    "\n",
    "\n",
    "logging.basicConfig(level=logging.DEBUG, encoding='utf-8',\n",
    "                    format='%(asctime)s - %(levelname)s - %(message)s')\n",
    "\n",
    "# [enable DEBUG level to log](https://discuss.python.org/t/no-debug-messages-going-into-log-file/57897/15)\n",
    "logger = logging.getLogger()\n",
    "logger.setLevel(logging.DEBUG)\n",
    "\n",
    "\n",
    "def main():\n",
    "    logging.debug(\"This is a DEBUG message\")\n",
    "    logging.info(\"This is an INFO message\")\n",
    "    logging.warning(\"This is a WARNING message\")\n",
    "    logging.error(\"This is an ERROR message\")\n",
    "    logging.critical(\"This is a CRITICAL message\")\n",
    "\n",
    "\n",
    "main()"
   ]
  },
  {
   "cell_type": "markdown",
   "metadata": {},
   "source": [
    "# logging from local file to local file"
   ]
  },
  {
   "cell_type": "markdown",
   "metadata": {},
   "source": [
    "```bash\n",
    "filename=python_logging_file_1.py\n",
    "\n",
    "cat<<-EOF>$filename \n",
    "import logging\n",
    "from pathlib import Path\n",
    "\n",
    "# create log file name\n",
    "log_file_name=Path(__file__).stem + \".log\"\n",
    "\n",
    "logger = logging.getLogger(__name__)\n",
    "\n",
    "def main():\n",
    "    logging.basicConfig(filename=log_file_name,\n",
    "                        level=logging.DEBUG,\n",
    "                        format=\"[%(asctime)s] p%(process)s {%(pathname)s:%(lineno)d} %(levelname)s - %(message)s\")\n",
    "    logging.debug(\"This is a debug message\")\n",
    "    logging.info(\"This is an info message\")\n",
    "    logging.warning(\"This is a warning message\")\n",
    "    logging.error(\"This is an error message\")\n",
    "    logging.critical(\"This is a critical message\")\n",
    "\n",
    "    logger.info('Started')\n",
    "    logger.debug('working')\n",
    "    logger.info('Finished')\n",
    "\n",
    "\n",
    "if __name__ == '__main__':\n",
    "    main()\n",
    "EOF\n",
    "```"
   ]
  },
  {
   "cell_type": "markdown",
   "metadata": {},
   "source": [
    "# [customize logger format](https://stackoverflow.com/questions/1343227/can-pythons-logging-format-be-modified-depending-on-the-message-log-level)"
   ]
  },
  {
   "cell_type": "markdown",
   "metadata": {},
   "source": [
    "# Custom formatter\n",
    "class MyFormatter(logging.Formatter):\n",
    "\n",
    "    err_fmt  = \"ERROR: %(msg)s\"\n",
    "    dbg_fmt  = \"DBG: %(module)s: %(lineno)d: %(msg)s\"\n",
    "    info_fmt = \"%(msg)s\"\n",
    "\n",
    "\n",
    "    def __init__(self, fmt=\"%(levelno)s: %(msg)s\"):\n",
    "        logging.Formatter.__init__(self, fmt)\n",
    "\n",
    "\n",
    "    def format(self, record):\n",
    "\n",
    "        # Save the original format configured by the user\n",
    "        # when the logger formatter was instantiated\n",
    "        format_orig = self._fmt\n",
    "\n",
    "        # Replace the original format with one customized by logging level\n",
    "        if record.levelno == logging.DEBUG:\n",
    "            self._fmt = MyFormatter.dbg_fmt\n",
    "\n",
    "        elif record.levelno == logging.INFO:\n",
    "            self._fmt = MyFormatter.info_fmt\n",
    "\n",
    "        elif record.levelno == logging.ERROR:\n",
    "            self._fmt = MyFormatter.err_fmt\n",
    "\n",
    "        # Call the original formatter class to do the grunt work\n",
    "        result = logging.Formatter.format(self, record)\n",
    "\n",
    "        # Restore the original format configured by the user\n",
    "        self._fmt = format_orig\n",
    "\n",
    "        return result"
   ]
  },
  {
   "cell_type": "code",
   "execution_count": null,
   "metadata": {},
   "outputs": [],
   "source": [
    "import logging\n",
    "from accelerate import Accelerator\n",
    "from accelerate.logging import get_logger\n",
    "from rich.logging import RichHandler\n",
    "\n",
    "accelerator = Accelerator()\n",
    "\n",
    "my_logger = logging.getLogger(__name__)\n",
    "my_logger.setLevel(logging.INFO)\n",
    "formatter = logging.Formatter(\n",
    "    fmt=\"%(name)s: %(lineno)s - %(message)s\", datefmt=\"%m/%d %H:%M:%S\")\n",
    "handler = RichHandler(show_time=True, show_level=True, show_path=True)\n",
    "handler.setFormatter(formatter)\n",
    "my_logger.addHandler(handler)\n",
    "\n",
    "logger = get_logger(__name__)\n",
    "logger.logger = my_logger\n",
    "logger.info(\"Test\")"
   ]
  }
 ],
 "metadata": {
  "kernelspec": {
   "display_name": ".venv",
   "language": "python",
   "name": "python3"
  },
  "language_info": {
   "codemirror_mode": {
    "name": "ipython",
    "version": 3
   },
   "file_extension": ".py",
   "mimetype": "text/x-python",
   "name": "python",
   "nbconvert_exporter": "python",
   "pygments_lexer": "ipython3",
   "version": "3.11.2"
  }
 },
 "nbformat": 4,
 "nbformat_minor": 2
}
