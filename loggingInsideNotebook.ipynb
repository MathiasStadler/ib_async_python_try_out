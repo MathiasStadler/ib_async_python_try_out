{
 "cells": [
  {
   "cell_type": "markdown",
   "metadata": {},
   "source": [
    "# env"
   ]
  },
  {
   "cell_type": "markdown",
   "metadata": {},
   "source": [
    "```bash\n",
    "date\n",
    "    Thu Apr 10 00:00:00 PM CEST 2025\n",
    "\n",
    "cat /etc/os-release \n",
    "    PRETTY_NAME=\"Debian GNU/Linux 12 (bookworm)\"\n",
    "    NAME=\"Debian GNU/Linux\"\n",
    "    VERSION_ID=\"12\"\n",
    "    VERSION=\"12 (bookworm)\"\n",
    "    VERSION_CODENAME=bookworm\n",
    "    ID=debian\n",
    "\n",
    "python3 --version\n",
    "    Python 3.11.2 \n",
    "```"
   ]
  },
  {
   "cell_type": "markdown",
   "metadata": {},
   "source": [
    "## google search results\n",
    "- [logging — Logging facility for Python](https://docs.python.org/3.11/library/logging.html#module-logging)\n",
    "- [python logging in jupyter notebooks](https://www.mineo.app/blog-page/python-logging-in-jupyter-notebooks)"
   ]
  },
  {
   "cell_type": "markdown",
   "metadata": {},
   "source": [
    "## first simple example\n",
    "\n",
    "<div class=\"alert alert-block alert-warning\"> \n",
    "⚠️ We will see the DEBUG message is missing\n",
    "</div>"
   ]
  },
  {
   "cell_type": "code",
   "execution_count": 3,
   "metadata": {},
   "outputs": [
    {
     "name": "stderr",
     "output_type": "stream",
     "text": [
      "2025-04-11 10:07:05,156 - DEBUG - This is a debug message\n",
      "2025-04-11 10:07:05,157 - INFO - This is an info message\n",
      "2025-04-11 10:07:05,158 - WARNING - This is a warning message\n",
      "2025-04-11 10:07:05,158 - ERROR - This is an error message\n",
      "2025-04-11 10:07:05,159 - CRITICAL - This is a critical message\n"
     ]
    }
   ],
   "source": [
    "import logging\n",
    "\n",
    "#logging.basicConfig(level=logging.INFO,  encoding='utf-8',format='%(asctime)s - %(levelname)s %(filename)s %(linenumber)s - %(message)s')\n",
    "logging.basicConfig(level=logging.INFO,  encoding='utf-8',format='%(asctime)s - %(levelname)s - %(message)s')\n",
    "\n",
    "logging.debug(\"This is a debug message\")\n",
    "logging.info(\"This is an info message\")\n",
    "logging.warning(\"This is a warning message\")\n",
    "logging.error(\"This is an error message\")\n",
    "logging.critical(\"This is a critical message\")"
   ]
  },
  {
   "cell_type": "markdown",
   "metadata": {},
   "source": [
    "> [Sure, check formatters in logging docs. Specifically the lineno and pathname variables.](https://stackoverflow.com/questions/533048/how-to-log-source-file-name-and-line-number-in-python)\n",
    "\n",
    "> - %(pathname)s Full pathname of the source file where the logging call was issued(if available).\n",
    "> - %(filename)s Filename portion of pathname.\n",
    "> - %(module)s Module (name portion of filename).\n",
    "> - %(funcName)s Name of function containing the logging call.\n",
    "> - %(lineno)d Source line number where the logging call was issued (if available).\n",
    "> - Looks something like this:\n",
    ">   ```python\n",
    ">   formatter = logging.Formatter('[%(asctime)s] p%(process)s {%(pathname)s:%(lineno)d} %(levelname)s - %(message)s','%m-%d %H:%M:%S')\n",
    ">   ```"
   ]
  },
  {
   "cell_type": "markdown",
   "metadata": {},
   "source": [
    "# enable debug message \n",
    "\n",
    "<div class=\"alert alert-block alert-info\">\n",
    "📝  These both lines of code enable the logging.debug message\n",
    "\n",
    "```python\n",
    "logger = logging.getLogger()\n",
    "logger.setLevel(logging.DEBUG)\n",
    "```\n",
    "\n",
    "</div>"
   ]
  },
  {
   "cell_type": "code",
   "execution_count": 4,
   "metadata": {},
   "outputs": [
    {
     "name": "stderr",
     "output_type": "stream",
     "text": [
      "2025-04-11 10:07:14,504 - DEBUG - This is a DEBUG message\n",
      "2025-04-11 10:07:14,506 - INFO - This is an INFO message\n",
      "2025-04-11 10:07:14,509 - WARNING - This is a WARNING message\n",
      "2025-04-11 10:07:14,510 - ERROR - This is an ERROR message\n",
      "2025-04-11 10:07:14,511 - CRITICAL - This is a CRITICAL message\n"
     ]
    }
   ],
   "source": [
    "import logging\n",
    "\n",
    "\n",
    "logging.basicConfig(level=logging.DEBUG,encoding='utf-8',format='%(asctime)s - %(levelname)s - %(message)s')\n",
    "\n",
    "# [enable DEBUG level to log](https://discuss.python.org/t/no-debug-messages-going-into-log-file/57897/15)\n",
    "logger = logging.getLogger()\n",
    "logger.setLevel(logging.DEBUG)\n",
    "\n",
    "def main():\n",
    "    logging.debug(\"This is a DEBUG message\")\n",
    "    logging.info(\"This is an INFO message\")\n",
    "    logging.warning(\"This is a WARNING message\")\n",
    "    logging.error(\"This is an ERROR message\")\n",
    "    logging.critical(\"This is a CRITICAL message\")\n",
    "\n",
    "main()"
   ]
  },
  {
   "cell_type": "markdown",
   "metadata": {},
   "source": [
    "https://discuss.python.org/t/no-debug-messages-going-into-log-file/57897/15"
   ]
  },
  {
   "cell_type": "markdown",
   "metadata": {},
   "source": [
    "[customize logger format](https://stackoverflow.com/questions/1343227/can-pythons-logging-format-be-modified-depending-on-the-message-log-level)"
   ]
  },
  {
   "cell_type": "markdown",
   "metadata": {},
   "source": []
  },
  {
   "cell_type": "code",
   "execution_count": null,
   "metadata": {},
   "outputs": [],
   "source": [
    "import logging\n",
    "## for file logging\n",
    "logging.basicConfig(filename='server-soap.1.log',\n",
    "        level=logging.INFO,\n",
    "        format='%(asctime)s %(levelname)s %(threadName)-10s %(message)s : %(lineno)d',)\n",
    "\n",
    "#logging.basicConfig(level=logging.INFO,  encoding='utf-8',format='%(asctime)s - %(levelname)s %(filename)s %(linenumber)s - %(message)s')\n",
    "# logging.basicConfig(level=logging.DEBUG,encoding='utf-8',format='%(asctime)s - %(levelname)s - %(lineno)d - %(message)s')\n",
    "\n",
    "\n",
    "# [enable DEBUG level to log](https://discuss.python.org/t/no-debug-messages-going-into-log-file/57897/15)\n",
    "logger = logging.getLogger()\n",
    "logger.setLevel(logging.DEBUG)\n",
    "\n",
    "def main():\n",
    "    logging.debug(\"This is a DEBUG message\")\n",
    "    logging.info(\"This is an INFO message\")\n",
    "    logging.warning(\"This is a WARNING message\")\n",
    "    logging.error(\"This is an ERROR message\")\n",
    "    logging.critical(\"This is a CRITICAL message\")\n",
    "\n",
    "main()"
   ]
  },
  {
   "cell_type": "markdown",
   "metadata": {},
   "source": []
  },
  {
   "cell_type": "code",
   "execution_count": null,
   "metadata": {},
   "outputs": [],
   "source": [
    "import logging\n",
    "from accelerate import Accelerator\n",
    "from accelerate.logging import get_logger\n",
    "from rich.logging import RichHandler\n",
    "\n",
    "accelerator = Accelerator()\n",
    "\n",
    "my_logger = logging.getLogger(__name__)\n",
    "my_logger.setLevel(logging.INFO)\n",
    "formatter = logging.Formatter(fmt=\"%(name)s: %(lineno)s - %(message)s\", datefmt=\"%m/%d %H:%M:%S\")\n",
    "handler = RichHandler(show_time=True, show_level=True, show_path=True)\n",
    "handler.setFormatter(formatter)\n",
    "my_logger.addHandler(handler)\n",
    "\n",
    "logger = get_logger(__name__)\n",
    "logger.logger = my_logger\n",
    "logger.info(\"Test\")"
   ]
  }
 ],
 "metadata": {
  "kernelspec": {
   "display_name": ".venv",
   "language": "python",
   "name": "python3"
  },
  "language_info": {
   "codemirror_mode": {
    "name": "ipython",
    "version": 3
   },
   "file_extension": ".py",
   "mimetype": "text/x-python",
   "name": "python",
   "nbconvert_exporter": "python",
   "pygments_lexer": "ipython3",
   "version": "3.11.2"
  }
 },
 "nbformat": 4,
 "nbformat_minor": 2
}
