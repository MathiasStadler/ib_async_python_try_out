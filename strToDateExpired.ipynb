{
 "cells": [
  {
   "cell_type": "markdown",
   "metadata": {},
   "source": [
    "# target of notebook => calculate days to expired a stock option\n",
    "## convert str to date\n",
    "## calculate timeframe between today and future date in days"
   ]
  },
  {
   "cell_type": "markdown",
   "metadata": {},
   "source": [
    "# target date and its format => lastTradeDateOrContractMonth='20250417'"
   ]
  },
  {
   "cell_type": "markdown",
   "metadata": {},
   "source": [
    "# convert the format string to date python object"
   ]
  },
  {
   "cell_type": "markdown",
   "metadata": {},
   "source": [
    "<div class=\"alert alert-block alert-info\">\n",
    "\n",
    "📝 [python simple error handling](https://stackoverflow.com/questions/4990718/how-can-i-write-a-try-except-block-that-catches-all-exceptions)\n",
    "\n",
    "```python\n",
    "import traceback\n",
    "\n",
    "try:\n",
    "    # your code goes here\n",
    "    print \"Performing an action which may throw an exception.\"\n",
    "\n",
    "    x = 2/0\n",
    "except Exception as e:\n",
    "    print(e)\n",
    "    traceback.print_exc()\n",
    "```\n",
    "</div>"
   ]
  },
  {
   "cell_type": "markdown",
   "metadata": {},
   "source": [
    "## test"
   ]
  },
  {
   "cell_type": "code",
   "execution_count": null,
   "metadata": {},
   "outputs": [],
   "source": [
    "import traceback\n",
    "\n",
    "try:\n",
    "    # your code goes here\n",
    "    print(\"Performing an action which may throw an exception.\")\n",
    "    x = 2/0\n",
    "\n",
    "except Exception as e:\n",
    "    # print(e)\n",
    "    # traceback.print_exc()\n",
    "    print(\"error: \",e)\n",
    "    print(\"error file info: \",e.__traceback__.tb_frame)\n",
    "    print(\"error line#: \",e.__traceback__.tb_lineno)"
   ]
  },
  {
   "cell_type": "markdown",
   "metadata": {},
   "source": [
    "<div class=\"alert alert-block alert-info\">\n",
    "\n",
    "📝 [How can I write a `try`/`except` block that catches all exceptions?](https://stackoverflow.com/questions/4990718/how-can-i-write-a-try-except-block-that-catches-all-exceptions)\n",
    "\n",
    "📝 [try - defining-clean-up-actions](http://docs.python.org/tutorial/errors.html#defining-clean-up-actions)\n",
    "\n",
    "\n",
    "```python\n",
    "try:\n",
    "    print (\"Performing an action which may throw an exception.\")\n",
    "except Exception.error:\n",
    "    print (\"An exception was thrown!\")\n",
    "    print (str(error))\n",
    "else:\n",
    "    print (\"Everything looks great!\")\n",
    "finally:\n",
    "    print (\"Finally is called directly after executing the try statement whether an exception is thrown or not.\")\n",
    "```\n",
    "</div>"
   ]
  },
  {
   "cell_type": "markdown",
   "metadata": {},
   "source": [
    "# best case"
   ]
  },
  {
   "cell_type": "code",
   "execution_count": null,
   "metadata": {},
   "outputs": [],
   "source": [
    "from copy import error\n",
    "\n",
    "try:\n",
    "    print (\"Performing an action which may throw an exception.\")\n",
    "except Exception.error:\n",
    "    print (\"An exception was thrown!\")\n",
    "    print (str(error))\n",
    "else:\n",
    "    print (\"Everything looks great!\")\n",
    "finally:\n",
    "    print (\"Finally is called directly after executing the try statement whether an exception is thrown or not.\")"
   ]
  },
  {
   "cell_type": "markdown",
   "metadata": {},
   "source": [
    "# ```python except Exception as e:``` instead of ```python except Exception.error:``` "
   ]
  },
  {
   "cell_type": "code",
   "execution_count": null,
   "metadata": {},
   "outputs": [],
   "source": [
    "try:\n",
    "    print (\"Performing an action which may throw an exception.\")\n",
    "except Exception as e:\n",
    "    print (\"An exception was thrown!\")\n",
    "    print(\"error: \",str(e))\n",
    "    print(\"error file info: \",e.__traceback__.tb_frame)\n",
    "    print(\"error line#: \",e.__traceback__.tb_lineno)\n",
    "else:\n",
    "    print (\"Everything looks great!\")\n",
    "finally:\n",
    "    print (\"Finally is called directly after executing the try statement whether an exception is thrown or not.\")"
   ]
  },
  {
   "cell_type": "markdown",
   "metadata": {},
   "source": [
    "# bad case"
   ]
  },
  {
   "cell_type": "code",
   "execution_count": null,
   "metadata": {},
   "outputs": [],
   "source": [
    "try:\n",
    "    print (\"Performing an action which may throw an exception.\")\n",
    "    x=2/0\n",
    "except Exception.error:\n",
    "    print (\"An exception was thrown!\")\n",
    "    print (str(error))\n",
    "else:\n",
    "    print (\"Everything looks great!\")\n",
    "finally:\n",
    "    print (\"Finally is called directly after executing the try statement whether an exception is thrown or not.\")"
   ]
  },
  {
   "cell_type": "markdown",
   "metadata": {},
   "source": [
    "# ```python except Exception as e:``` instead of ```python except Exception.error:``` "
   ]
  },
  {
   "cell_type": "code",
   "execution_count": null,
   "metadata": {},
   "outputs": [],
   "source": [
    "try:\n",
    "    print (\"Performing an action which may throw an exception.\")\n",
    "    x=2/0\n",
    "except Exception as e:\n",
    "    print (\"error: An exception was thrown!\")\n",
    "    print(\"error: \",str(e))\n",
    "    print(\"error file info: \",e.__traceback__.tb_frame)\n",
    "    print(\"error line#: \",e.__traceback__.tb_lineno)\n",
    "else:\n",
    "    print (\"Everything looks great!\")\n",
    "finally:\n",
    "    print (\"Finally is called directly after executing the try statement whether an exception is thrown or not.\")"
   ]
  },
  {
   "cell_type": "code",
   "execution_count": null,
   "metadata": {},
   "outputs": [],
   "source": [
    "from datetime import datetime\n",
    "\n",
    "\n",
    "def convertStringToDateTime(str_date : str) -> datetime:\n",
    "    try:\n",
    "        dateTimeObj = datetime.strptime(str_date, \"%Y%m%d\")\n",
    "        print(f\"Date as type =>  {type(dateTimeObj)} is {dateTimeObj}\")\n",
    "    except Exception as e:\n",
    "        print (\"error: An exception was thrown!\")\n",
    "        print(\"error: \",str(e))\n",
    "        print(\"error file info: \",e.__traceback__.tb_frame)\n",
    "        print(\"error line#: \",e.__traceback__.tb_lineno)\n",
    "    else:\n",
    "        print (\"No Error => Everything looks great!\")\n",
    "    finally:\n",
    "        print (\"Finally => Is called directly after executing the try statement WHETHER an exception is thrown or not.\")\n",
    "        # return :-)\n",
    "        return dateTimeObj\n",
    "        "
   ]
  },
  {
   "cell_type": "markdown",
   "metadata": {},
   "source": [
    "# call method"
   ]
  },
  {
   "cell_type": "code",
   "execution_count": null,
   "metadata": {},
   "outputs": [],
   "source": [
    "lastTradeDateOrContractMonth='20250417'\n",
    "\n",
    "dateTimeObj:datetime = convertStringToDateTime(lastTradeDateOrContractMonth)\n",
    "\n",
    "print(\"Type {} with value {}\".format(type(dateTimeObj),dateTimeObj))"
   ]
  },
  {
   "cell_type": "markdown",
   "metadata": {},
   "source": [
    "# Calculate the period until expiration in days"
   ]
  },
  {
   "cell_type": "code",
   "execution_count": null,
   "metadata": {},
   "outputs": [],
   "source": [
    "from datetime import date\n",
    "from datetime import datetime\n",
    "\n",
    "\n",
    "def days_until(target_date:date):\n",
    "    \n",
    "    result=None\n",
    "    \n",
    "    try:\n",
    "        today = date.today()\n",
    "        delta = target_date - today\n",
    "        print (\"{} \".format(delta.days))\n",
    "        result = delta.days\n",
    "    except Exception as e:\n",
    "        print (\"error: An exception was thrown!\")\n",
    "        print(\"error: \",str(e))\n",
    "        print(\"error file info: \",e.__traceback__.tb_frame)\n",
    "        print(\"error line#: \",e.__traceback__.tb_lineno)\n",
    "    finally:\n",
    "        return result\n",
    "\n",
    "def calculatePeriodUtilExpirationInDay(dateTimeObj):\n",
    "    try:\n",
    "        # extract from datetime the date\n",
    "        print(type(dateTimeObj))\n",
    "        # vry important date vs date() :-)\n",
    "        future_date = dateTimeObj.date()\n",
    "        days_left = days_until(future_date)\n",
    "        print(f\"Days until {future_date}: {days_left}\")\n",
    "    except Exception as e:\n",
    "        print (\"error: An exception was thrown!\")\n",
    "        print(\"error: \",str(e))\n",
    "        print(\"error file info: \",e.__traceback__.tb_frame)\n",
    "        print(\"error line#: \",e.__traceback__.tb_lineno)\n",
    "    else:\n",
    "        print (\"No Error => Everything looks great!\")\n",
    "    finally:\n",
    "        print (\"Finally => Is called directly after executing the try statement WHETHER an exception is thrown or not.\")"
   ]
  },
  {
   "cell_type": "markdown",
   "metadata": {},
   "source": [
    "# call method"
   ]
  },
  {
   "cell_type": "code",
   "execution_count": null,
   "metadata": {},
   "outputs": [],
   "source": [
    "datetimeObj:datetime = calculatePeriodUtilExpirationInDay(dateTimeObj)\n"
   ]
  },
  {
   "cell_type": "markdown",
   "metadata": {},
   "source": [
    "# calculate only weekdays\n",
    "\n",
    "## [Here a simple function that compute the number of business days between 2 dates](https://stackoverflow.com/questions/21152490/how-do-i-count-only-weekdays-from-timedelta-in-python)"
   ]
  },
  {
   "cell_type": "code",
   "execution_count": null,
   "metadata": {},
   "outputs": [],
   "source": [
    "from datetime import datetime\n",
    "\n",
    "def business_days(since, until):\n",
    "    since_isoweekday = since.isoweekday() + 1\n",
    "    return len([x for x in range(since_isoweekday,\n",
    "                                 since_isoweekday + (until - since).days)\n",
    "                if x % 7 not in [0, 6]])"
   ]
  },
  {
   "cell_type": "code",
   "execution_count": 121,
   "metadata": {},
   "outputs": [
    {
     "ename": "TypeError",
     "evalue": "function missing required argument 'month' (pos 2)",
     "output_type": "error",
     "traceback": [
      "\u001b[31m---------------------------------------------------------------------------\u001b[39m",
      "\u001b[31mTypeError\u001b[39m                                 Traceback (most recent call last)",
      "\u001b[36mCell\u001b[39m\u001b[36m \u001b[39m\u001b[32mIn[121]\u001b[39m\u001b[32m, line 3\u001b[39m\n\u001b[32m      1\u001b[39m \u001b[38;5;66;03m# since = datetime(2025, 4, 9)\u001b[39;00m\n\u001b[32m      2\u001b[39m \u001b[38;5;66;03m# until = datetime(2025, 4, 13)\u001b[39;00m\n\u001b[32m----> \u001b[39m\u001b[32m3\u001b[39m since = \u001b[43mdatetime\u001b[49m\u001b[43m(\u001b[49m\u001b[32;43m20250409\u001b[39;49m\u001b[43m)\u001b[49m\n\u001b[32m      4\u001b[39m until = datetime(\u001b[32m20250413\u001b[39m)\n\u001b[32m      5\u001b[39m \u001b[38;5;28mprint\u001b[39m(\u001b[33m\"\u001b[39m\u001b[33mType since \u001b[39m\u001b[38;5;132;01m{}\u001b[39;00m\u001b[33m\"\u001b[39m.format(\u001b[38;5;28mtype\u001b[39m(since)))\n",
      "\u001b[31mTypeError\u001b[39m: function missing required argument 'month' (pos 2)"
     ]
    }
   ],
   "source": [
    "# since = datetime(2025, 4, 9)\n",
    "# until = datetime(2025, 4, 13)\n",
    "since = datetime(20250409)\n",
    "until = datetime(20250413)\n",
    "print(\"Type since {}\".format(type(since)))\n",
    "print(\"Type util {}\".format(type(until)))\n",
    "since = convertStringToDateTime('20250417')\n",
    "util = convertStringToDateTime('20250419')\n",
    "business_days(since, until)"
   ]
  },
  {
   "cell_type": "markdown",
   "metadata": {},
   "source": [
    "# only weekdays"
   ]
  },
  {
   "cell_type": "code",
   "execution_count": 110,
   "metadata": {},
   "outputs": [],
   "source": [
    "from datetime import date\n",
    "from datetime import datetime\n",
    "\n",
    "\n",
    "def days_until(target_date:date):\n",
    "    \n",
    "    result=None\n",
    "    \n",
    "    try:\n",
    "        today = date.today()\n",
    "        delta = target_date - today\n",
    "        print (\"{} \".format(delta.days))\n",
    "        result = delta.days\n",
    "\n",
    "        print(\"weekday as number => {} {}\".format(today.isoweekday(),target_date.isoweekday()))\n",
    "\n",
    "        print(\"days with weekend {} \".format((target_date - today).days))\n",
    "\n",
    "        # for x in range(today,target_date):\n",
    "        #     print(x)\n",
    "\n",
    "        # for x in range(today.isoweekday,target_date.isoweekday):\n",
    "        #     print(x)\n",
    "        \n",
    "    except Exception as e:\n",
    "        print (\"error: An exception was thrown!\")\n",
    "        print(\"error: \",str(e))\n",
    "        print(\"error file info: \",e.__traceback__.tb_frame)\n",
    "        print(\"error line#: \",e.__traceback__.tb_lineno)\n",
    "    finally:\n",
    "        return result\n",
    "\n",
    "def calculatePeriodUtilExpirationInWeekDay(dateTimeObj):\n",
    "    try:\n",
    "        # extract from datetime the date\n",
    "        print(type(dateTimeObj))\n",
    "        # very important date vs date() :-)\n",
    "        future_date = dateTimeObj.date()\n",
    "        days_left = days_until(future_date)\n",
    "        print(f\"Days until {future_date}: {days_left}\")\n",
    "    except Exception as e:\n",
    "        print (\"error: An exception was thrown!\")\n",
    "        print(\"error: \",str(e))\n",
    "        print(\"error file info: \",e.__traceback__.tb_frame)\n",
    "        print(\"error line#: \",e.__traceback__.tb_lineno)\n",
    "    else:\n",
    "        print (\"No Error => Everything looks great!\")\n",
    "    finally:\n",
    "        print (\"Finally => Is called directly after executing the try statement WHETHER an exception is thrown or not.\")"
   ]
  },
  {
   "cell_type": "markdown",
   "metadata": {},
   "source": []
  },
  {
   "cell_type": "code",
   "execution_count": 111,
   "metadata": {},
   "outputs": [
    {
     "name": "stdout",
     "output_type": "stream",
     "text": [
      "<class 'datetime.datetime'>\n",
      "8 \n",
      "weekday as number => 3 4\n",
      "days with weekend 8 \n",
      "Days until 2025-04-17: 8\n",
      "No Error => Everything looks great!\n",
      "Finally => Is called directly after executing the try statement WHETHER an exception is thrown or not.\n"
     ]
    }
   ],
   "source": [
    "datetimeObj:datetime = calculatePeriodUtilExpirationInWeekDay(dateTimeObj)"
   ]
  }
 ],
 "metadata": {
  "kernelspec": {
   "display_name": ".venv",
   "language": "python",
   "name": "python3"
  },
  "language_info": {
   "codemirror_mode": {
    "name": "ipython",
    "version": 3
   },
   "file_extension": ".py",
   "mimetype": "text/x-python",
   "name": "python",
   "nbconvert_exporter": "python",
   "pygments_lexer": "ipython3",
   "version": "3.11.2"
  }
 },
 "nbformat": 4,
 "nbformat_minor": 2
}
