{
 "cells": [
  {
   "cell_type": "markdown",
   "metadata": {},
   "source": [
    "# target of notebook - calculate days to expired a stock option\n",
    "## convert str to date\n",
    "## calculate timeframe between today and future date in days"
   ]
  },
  {
   "cell_type": "markdown",
   "metadata": {},
   "source": [
    "# target date and its format"
   ]
  },
  {
   "cell_type": "code",
   "execution_count": null,
   "metadata": {},
   "outputs": [],
   "source": [
    "lastTradeDateOrContractMonth='20250417'"
   ]
  },
  {
   "cell_type": "markdown",
   "metadata": {},
   "source": [
    "# convert the format string to date python object"
   ]
  },
  {
   "cell_type": "markdown",
   "metadata": {},
   "source": [
    "<div class=\"alert alert-block alert-info\">\n",
    "📝 [python simple error handling]()\n",
    "\n",
    "```python\n",
    "import traceback\n",
    "\n",
    "try:\n",
    "    # your code goes here\n",
    "except Exception as e:\n",
    "    print(e)\n",
    "    traceback.print_exc()\n",
    "```\n",
    "</div>"
   ]
  },
  {
   "cell_type": "markdown",
   "metadata": {},
   "source": [
    "<div class=\"alert alert-block alert-info\">\n",
    "📝 [How can I write a `try`/`except` block that catches all exceptions?](https://stackoverflow.com/questions/4990718/how-can-i-write-a-try-except-block-that-catches-all-exceptions)\n",
    "\n",
    "📝 [try - defining-clean-up-actions](http://docs.python.org/tutorial/errors.html#defining-clean-up-actions)\n",
    "\n",
    "\n",
    "```python\n",
    "try:\n",
    "    print \"Performing an action which may throw an exception.\"\n",
    "except Exception, error:\n",
    "    print \"An exception was thrown!\"\n",
    "    print str(error)\n",
    "else:\n",
    "    print \"Everything looks great!\"\n",
    "finally:\n",
    "    print \"Finally is called directly after executing the try statement whether an exception is thrown or not.\"\n",
    "```\n",
    "</div>"
   ]
  },
  {
   "cell_type": "markdown",
   "metadata": {},
   "source": []
  },
  {
   "cell_type": "code",
   "execution_count": null,
   "metadata": {},
   "outputs": [],
   "source": [
    "def convertStringToDate(str_date):\n",
    "    try:\n",
    "        dateTimeObj = str_datedate.strptime(lastTradeDateOrContractMonth, \"%Y%m%d\")\n",
    "        print(f\"Date as {type(dateTimeObj)} is {dateTimeObj}\")\n",
    "    Exception(e):\n",
    "        "
   ]
  },
  {
   "cell_type": "markdown",
   "metadata": {},
   "source": [
    "# call method"
   ]
  },
  {
   "cell_type": "code",
   "execution_count": null,
   "metadata": {},
   "outputs": [],
   "source": [
    "convertStringToDate(lastTradeDateOrContractMonth)"
   ]
  }
 ],
 "metadata": {
  "kernelspec": {
   "display_name": ".venv",
   "language": "python",
   "name": "python3"
  },
  "language_info": {
   "name": "python",
   "version": "3.11.2"
  }
 },
 "nbformat": 4,
 "nbformat_minor": 2
}
