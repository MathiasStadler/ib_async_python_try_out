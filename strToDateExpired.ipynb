{
 "cells": [
  {
   "cell_type": "markdown",
   "metadata": {},
   "source": [
    "# target of notebook => calculate days to expired a stock option\n",
    "## convert str to date\n",
    "## calculate timeframe between today and future date in days"
   ]
  },
  {
   "cell_type": "markdown",
   "metadata": {},
   "source": [
    "# target date and its format"
   ]
  },
  {
   "cell_type": "code",
   "execution_count": null,
   "metadata": {},
   "outputs": [],
   "source": [
    "lastTradeDateOrContractMonth='20250417'"
   ]
  },
  {
   "cell_type": "markdown",
   "metadata": {},
   "source": [
    "# convert the format string to date python object"
   ]
  },
  {
   "cell_type": "markdown",
   "metadata": {},
   "source": [
    "<div class=\"alert alert-block alert-info\">\n",
    "\n",
    "📝 [python simple error handling](https://stackoverflow.com/questions/4990718/how-can-i-write-a-try-except-block-that-catches-all-exceptions)\n",
    "\n",
    "```python\n",
    "import traceback\n",
    "\n",
    "try:\n",
    "    # your code goes here\n",
    "    print \"Performing an action which may throw an exception.\"\n",
    "\n",
    "    x = 2/0\n",
    "except Exception as e:\n",
    "    print(e)\n",
    "    traceback.print_exc()\n",
    "```\n",
    "</div>"
   ]
  },
  {
   "cell_type": "markdown",
   "metadata": {},
   "source": [
    "## test"
   ]
  },
  {
   "cell_type": "code",
   "execution_count": null,
   "metadata": {},
   "outputs": [],
   "source": [
    "import traceback\n",
    "\n",
    "try:\n",
    "    # your code goes here\n",
    "    print(\"Performing an action which may throw an exception.\")\n",
    "    x = 2/0\n",
    "\n",
    "except Exception as e:\n",
    "    # print(e)\n",
    "    # traceback.print_exc()\n",
    "    print(\"error: \",e)\n",
    "    print(\"error file info: \",e.__traceback__.tb_frame)\n",
    "    print(\"error line#: \",e.__traceback__.tb_lineno)"
   ]
  },
  {
   "cell_type": "markdown",
   "metadata": {},
   "source": [
    "<div class=\"alert alert-block alert-info\">\n",
    "\n",
    "📝 [How can I write a `try`/`except` block that catches all exceptions?](https://stackoverflow.com/questions/4990718/how-can-i-write-a-try-except-block-that-catches-all-exceptions)\n",
    "\n",
    "📝 [try - defining-clean-up-actions](http://docs.python.org/tutorial/errors.html#defining-clean-up-actions)\n",
    "\n",
    "\n",
    "```python\n",
    "try:\n",
    "    print (\"Performing an action which may throw an exception.\")\n",
    "except Exception.error:\n",
    "    print (\"An exception was thrown!\")\n",
    "    print (str(error))\n",
    "else:\n",
    "    print (\"Everything looks great!\")\n",
    "finally:\n",
    "    print (\"Finally is called directly after executing the try statement whether an exception is thrown or not.\")\n",
    "```\n",
    "</div>"
   ]
  },
  {
   "cell_type": "markdown",
   "metadata": {},
   "source": [
    "# best case"
   ]
  },
  {
   "cell_type": "code",
   "execution_count": null,
   "metadata": {},
   "outputs": [],
   "source": [
    "from copy import error\n",
    "\n",
    "\n",
    "try:\n",
    "    print (\"Performing an action which may throw an exception.\")\n",
    "except Exception.error:\n",
    "    print (\"An exception was thrown!\")\n",
    "    print (str(error))\n",
    "else:\n",
    "    print (\"Everything looks great!\")\n",
    "finally:\n",
    "    print (\"Finally is called directly after executing the try statement whether an exception is thrown or not.\")"
   ]
  },
  {
   "cell_type": "markdown",
   "metadata": {},
   "source": [
    "# ```python except Exception as e:``` instead of ```python except Exception.error:` "
   ]
  },
  {
   "cell_type": "code",
   "execution_count": null,
   "metadata": {},
   "outputs": [],
   "source": [
    "try:\n",
    "    print (\"Performing an action which may throw an exception.\")\n",
    "except Exception as e:\n",
    "    print (\"An exception was thrown!\")\n",
    "    print (str(e))\n",
    "else:\n",
    "    print (\"Everything looks great!\")\n",
    "finally:\n",
    "    print (\"Finally is called directly after executing the try statement whether an exception is thrown or not.\")"
   ]
  },
  {
   "cell_type": "markdown",
   "metadata": {},
   "source": [
    "# bad case"
   ]
  },
  {
   "cell_type": "code",
   "execution_count": null,
   "metadata": {},
   "outputs": [],
   "source": [
    "try:\n",
    "    print (\"Performing an action which may throw an exception.\")\n",
    "except Exception.error:\n",
    "    print (\"An exception was thrown!\")\n",
    "    print (str(error))\n",
    "else:\n",
    "    print (\"Everything looks great!\")\n",
    "finally:\n",
    "    print (\"Finally is called directly after executing the try statement whether an exception is thrown or not.\")"
   ]
  },
  {
   "cell_type": "markdown",
   "metadata": {},
   "source": []
  },
  {
   "cell_type": "code",
   "execution_count": null,
   "metadata": {},
   "outputs": [],
   "source": [
    "def convertStringToDate(str_date):\n",
    "    try:\n",
    "        dateTimeObj = str_datedate.strptime(lastTradeDateOrContractMonth, \"%Y%m%d\")\n",
    "        print(f\"Date as {type(dateTimeObj)} is {dateTimeObj}\")\n",
    "    Exception(e):\n",
    "        "
   ]
  },
  {
   "cell_type": "markdown",
   "metadata": {},
   "source": [
    "# call method"
   ]
  },
  {
   "cell_type": "code",
   "execution_count": null,
   "metadata": {},
   "outputs": [],
   "source": [
    "convertStringToDate(lastTradeDateOrContractMonth)"
   ]
  }
 ],
 "metadata": {
  "kernelspec": {
   "display_name": ".venv",
   "language": "python",
   "name": "python3"
  },
  "language_info": {
   "codemirror_mode": {
    "name": "ipython",
    "version": 3
   },
   "file_extension": ".py",
   "mimetype": "text/x-python",
   "name": "python",
   "nbconvert_exporter": "python",
   "pygments_lexer": "ipython3",
   "version": "3.11.2"
  }
 },
 "nbformat": 4,
 "nbformat_minor": 2
}
