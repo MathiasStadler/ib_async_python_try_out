{
 "cells": [
  {
   "cell_type": "markdown",
   "metadata": {},
   "source": [
    "# target of notebook => calculate days to expired a stock option\n",
    "## convert str to date\n",
    "## calculate timeframe between today and future date in days"
   ]
  },
  {
   "cell_type": "markdown",
   "metadata": {},
   "source": [
    "# target date and its format => lastTradeDateOrContractMonth='20250417'"
   ]
  },
  {
   "cell_type": "markdown",
   "metadata": {},
   "source": [
    "# convert the format string to date python object"
   ]
  },
  {
   "cell_type": "markdown",
   "metadata": {},
   "source": [
    "<div class=\"alert alert-block alert-info\">\n",
    "\n",
    "📝 [python simple error handling](https://stackoverflow.com/questions/4990718/how-can-i-write-a-try-except-block-that-catches-all-exceptions)\n",
    "\n",
    "```python\n",
    "import traceback\n",
    "\n",
    "try:\n",
    "    # your code goes here\n",
    "    print \"Performing an action which may throw an exception.\"\n",
    "\n",
    "    x = 2/0\n",
    "except Exception as e:\n",
    "    print(e)\n",
    "    traceback.print_exc()\n",
    "```\n",
    "</div>"
   ]
  },
  {
   "cell_type": "markdown",
   "metadata": {},
   "source": [
    "## test"
   ]
  },
  {
   "cell_type": "code",
   "execution_count": null,
   "metadata": {},
   "outputs": [],
   "source": [
    "import traceback\n",
    "\n",
    "try:\n",
    "    # your code goes here\n",
    "    print(\"Performing an action which may throw an exception.\")\n",
    "    x = 2/0\n",
    "\n",
    "except Exception as e:\n",
    "    # print(e)\n",
    "    # traceback.print_exc()\n",
    "    print(\"error: \",e)\n",
    "    print(\"error file info: \",e.__traceback__.tb_frame)\n",
    "    print(\"error line#: \",e.__traceback__.tb_lineno)"
   ]
  },
  {
   "cell_type": "markdown",
   "metadata": {},
   "source": [
    "<div class=\"alert alert-block alert-info\">\n",
    "\n",
    "📝 [How can I write a `try`/`except` block that catches all exceptions?](https://stackoverflow.com/questions/4990718/how-can-i-write-a-try-except-block-that-catches-all-exceptions)\n",
    "\n",
    "📝 [try - defining-clean-up-actions](http://docs.python.org/tutorial/errors.html#defining-clean-up-actions)\n",
    "\n",
    "\n",
    "```python\n",
    "try:\n",
    "    print (\"Performing an action which may throw an exception.\")\n",
    "except Exception.error:\n",
    "    print (\"An exception was thrown!\")\n",
    "    print (str(error))\n",
    "else:\n",
    "    print (\"Everything looks great!\")\n",
    "finally:\n",
    "    print (\"Finally is called directly after executing the try statement whether an exception is thrown or not.\")\n",
    "```\n",
    "</div>"
   ]
  },
  {
   "cell_type": "markdown",
   "metadata": {},
   "source": [
    "# best case"
   ]
  },
  {
   "cell_type": "code",
   "execution_count": null,
   "metadata": {},
   "outputs": [],
   "source": [
    "from copy import error\n",
    "\n",
    "try:\n",
    "    print (\"Performing an action which may throw an exception.\")\n",
    "except Exception.error:\n",
    "    print (\"An exception was thrown!\")\n",
    "    print (str(error))\n",
    "else:\n",
    "    print (\"Everything looks great!\")\n",
    "finally:\n",
    "    print (\"Finally is called directly after executing the try statement whether an exception is thrown or not.\")"
   ]
  },
  {
   "cell_type": "markdown",
   "metadata": {},
   "source": [
    "# ```python except Exception as e:``` instead of ```python except Exception.error:``` "
   ]
  },
  {
   "cell_type": "code",
   "execution_count": null,
   "metadata": {},
   "outputs": [],
   "source": [
    "try:\n",
    "    print (\"Performing an action which may throw an exception.\")\n",
    "except Exception as e:\n",
    "    print (\"An exception was thrown!\")\n",
    "    print(\"error: \",str(e))\n",
    "    print(\"error file info: \",e.__traceback__.tb_frame)\n",
    "    print(\"error line#: \",e.__traceback__.tb_lineno)\n",
    "else:\n",
    "    print (\"Everything looks great!\")\n",
    "finally:\n",
    "    print (\"Finally is called directly after executing the try statement whether an exception is thrown or not.\")"
   ]
  },
  {
   "cell_type": "markdown",
   "metadata": {},
   "source": [
    "# bad case"
   ]
  },
  {
   "cell_type": "code",
   "execution_count": null,
   "metadata": {},
   "outputs": [],
   "source": [
    "try:\n",
    "    print (\"Performing an action which may throw an exception.\")\n",
    "    x=2/0\n",
    "except Exception.error:\n",
    "    print (\"An exception was thrown!\")\n",
    "    print (str(error))\n",
    "else:\n",
    "    print (\"Everything looks great!\")\n",
    "finally:\n",
    "    print (\"Finally is called directly after executing the try statement whether an exception is thrown or not.\")"
   ]
  },
  {
   "cell_type": "markdown",
   "metadata": {},
   "source": [
    "# ```python except Exception as e:``` instead of ```python except Exception.error:``` "
   ]
  },
  {
   "cell_type": "code",
   "execution_count": null,
   "metadata": {},
   "outputs": [],
   "source": [
    "try:\n",
    "    print (\"Performing an action which may throw an exception.\")\n",
    "    x=2/0\n",
    "except Exception as e:\n",
    "    print (\"error: An exception was thrown!\")\n",
    "    print(\"error: \",str(e))\n",
    "    print(\"error file info: \",e.__traceback__.tb_frame)\n",
    "    print(\"error line#: \",e.__traceback__.tb_lineno)\n",
    "else:\n",
    "    print (\"Everything looks great!\")\n",
    "finally:\n",
    "    print (\"Finally is called directly after executing the try statement whether an exception is thrown or not.\")"
   ]
  },
  {
   "cell_type": "code",
   "execution_count": null,
   "metadata": {},
   "outputs": [],
   "source": [
    "from datetime import datetime\n",
    "\n",
    "\n",
    "def convertStringToDateTime(str_date : str) -> datetime:\n",
    "    try:\n",
    "        dateTimeObj = datetime.strptime(str_date, \"%Y%m%d\")\n",
    "        print(f\"Date as type =>  {type(dateTimeObj)} is {dateTimeObj}\")\n",
    "    except Exception as e:\n",
    "        print (\"error: An exception was thrown!\")\n",
    "        print(\"error: \",str(e))\n",
    "        print(\"error file info: \",e.__traceback__.tb_frame)\n",
    "        print(\"error line#: \",e.__traceback__.tb_lineno)\n",
    "    else:\n",
    "        print (\"No Error => Everything looks great!\")\n",
    "    finally:\n",
    "        print (\"Finally => Is called directly after executing the try statement WHETHER an exception is thrown or not.\")\n",
    "        # return :-)\n",
    "        return dateTimeObj\n",
    "        "
   ]
  },
  {
   "cell_type": "markdown",
   "metadata": {},
   "source": [
    "# call method"
   ]
  },
  {
   "cell_type": "code",
   "execution_count": null,
   "metadata": {},
   "outputs": [],
   "source": [
    "lastTradeDateOrContractMonth='20250417'\n",
    "\n",
    "dateTimeObj:datetime = convertStringToDateTime(lastTradeDateOrContractMonth)\n",
    "\n",
    "print(\"Type {} with value {}\".format(type(dateTimeObj),dateTimeObj))"
   ]
  },
  {
   "cell_type": "markdown",
   "metadata": {},
   "source": [
    "# Calculate the period until expiration in days"
   ]
  },
  {
   "cell_type": "code",
   "execution_count": null,
   "metadata": {},
   "outputs": [],
   "source": [
    "from datetime import date\n",
    "from datetime import datetime\n",
    "\n",
    "\n",
    "def days_until(target_date:date):\n",
    "    \n",
    "    result=None\n",
    "    \n",
    "    try:\n",
    "        today = date.today()\n",
    "        delta = target_date - today\n",
    "        print (\"{} \".format(delta.days))\n",
    "        result = delta.days\n",
    "    except Exception as e:\n",
    "        print (\"error: An exception was thrown!\")\n",
    "        print(\"error: \",str(e))\n",
    "        print(\"error file info: \",e.__traceback__.tb_frame)\n",
    "        print(\"error line#: \",e.__traceback__.tb_lineno)\n",
    "    finally:\n",
    "        return result\n",
    "\n",
    "def calculatePeriodUtilExpirationInDay(dateTimeObj):\n",
    "    try:\n",
    "        # extract from datetime the date\n",
    "        print(type(dateTimeObj))\n",
    "        # vry important date vs date() :-)\n",
    "        future_date = dateTimeObj.date()\n",
    "        days_left = days_until(future_date)\n",
    "        print(f\"Days until {future_date}: {days_left}\")\n",
    "    except Exception as e:\n",
    "        print (\"error: An exception was thrown!\")\n",
    "        print(\"error: \",str(e))\n",
    "        print(\"error file info: \",e.__traceback__.tb_frame)\n",
    "        print(\"error line#: \",e.__traceback__.tb_lineno)\n",
    "    else:\n",
    "        print (\"No Error => Everything looks great!\")\n",
    "    finally:\n",
    "        print (\"Finally => Is called directly after executing the try statement WHETHER an exception is thrown or not.\")"
   ]
  },
  {
   "cell_type": "markdown",
   "metadata": {},
   "source": [
    "# call method"
   ]
  },
  {
   "cell_type": "code",
   "execution_count": null,
   "metadata": {},
   "outputs": [],
   "source": [
    "datetimeObj:datetime = calculatePeriodUtilExpirationInDay(dateTimeObj)\n"
   ]
  },
  {
   "cell_type": "markdown",
   "metadata": {},
   "source": [
    "# calculate only weekdays\n",
    "\n",
    "## [Here a simple function that compute the number of business days between 2 dates](https://stackoverflow.com/questions/21152490/how-do-i-count-only-weekdays-from-timedelta-in-python)"
   ]
  },
  {
   "cell_type": "code",
   "execution_count": null,
   "metadata": {},
   "outputs": [],
   "source": [
    "from datetime import datetime\n",
    "\n",
    "def business_days(since, until):\n",
    "    since_isoweekday = since.isoweekday() + 1\n",
    "    return len([x for x in range(since_isoweekday,\n",
    "                                 since_isoweekday + (until - since).days)\n",
    "                if x % 7 not in [0, 6]])"
   ]
  },
  {
   "cell_type": "code",
   "execution_count": null,
   "metadata": {},
   "outputs": [],
   "source": [
    "# since = datetime(2025, 4, 9)\n",
    "# until = datetime(2025, 4, 13)\n",
    "since = datetime(20250409)\n",
    "until = datetime(20250413)\n",
    "print(\"Type since {}\".format(type(since)))\n",
    "print(\"Type util {}\".format(type(until)))\n",
    "since = convertStringToDateTime('20250417')\n",
    "util = convertStringToDateTime('20250419')\n",
    "business_days(since, until)"
   ]
  },
  {
   "cell_type": "markdown",
   "metadata": {},
   "source": [
    "# only weekdays"
   ]
  },
  {
   "cell_type": "code",
   "execution_count": null,
   "metadata": {},
   "outputs": [],
   "source": [
    "# from datetime import date\n",
    "# from datetime import datetime\n",
    "from datetime import date,datetime, timedelta\n",
    "\n",
    "\n",
    "def days_until(target_date:date):\n",
    "    \n",
    "    result=None\n",
    "    \n",
    "    try:\n",
    "        today = date.today()\n",
    "\n",
    "        # date to datetime\n",
    "        #today_datetime = datetime.fromisoformat(date.isoformat())\n",
    "        # today_datetime = datetime.timestamp(datetime.combine(target_date, datetime.min.time()))\n",
    "        # today_datetime.\n",
    "\n",
    "        print(\"datetime :type => {} : {}\".format(today_datetime,type(today_datetime)))\n",
    "\n",
    "\n",
    "        delta = target_date - today\n",
    "        print (\" Delta with weekends = > {} \".format(delta.days))\n",
    "        result = delta.days\n",
    "\n",
    "        print(\"weekday as number => {} {}\".format(today.isoweekday(),target_date.isoweekday()))\n",
    "\n",
    "        print(\"days with weekend {} \".format((target_date - today).days))\n",
    "\n",
    "        next_day = today\n",
    "        # datetime.timedelta(days=1, hours=0)\n",
    "        \n",
    "        print(\" day plus one day => {}\".format(next_day) )\n",
    "        # for x in range(today,target_date):\n",
    "        #     print(x)\n",
    "\n",
    "        # for x in range(today.isoweekday,target_date.isoweekday):\n",
    "        #     print(x)\n",
    "        \n",
    "    except Exception as e:\n",
    "        print (\"error: An exception was thrown!\")\n",
    "        print(\"error: \",str(e))\n",
    "        print(\"error file info: \",e.__traceback__.tb_frame)\n",
    "        print(\"error line#: \",e.__traceback__.tb_lineno)\n",
    "    finally:\n",
    "        return result\n",
    "\n",
    "def calculatePeriodUtilExpirationInWeekDay(dateTimeObj):\n",
    "    try:\n",
    "        # extract from datetime the date\n",
    "        print(type(dateTimeObj))\n",
    "        # very important date vs date() :-)\n",
    "        future_date = dateTimeObj.date()\n",
    "        days_left = days_until(future_date)\n",
    "        print(f\"Days until {future_date}: {days_left}\")\n",
    "    except Exception as e:\n",
    "        print (\"error: An exception was thrown!\")\n",
    "        print(\"error: \",str(e))\n",
    "        print(\"error file info: \",e.__traceback__.tb_frame)\n",
    "        print(\"error line#: \",e.__traceback__.tb_lineno)\n",
    "    else:\n",
    "        print (\"No Error => Everything looks great!\")\n",
    "    finally:\n",
    "        print (\"Finally => Is called directly after executing the try statement WHETHER an exception is thrown or not.\")"
   ]
  },
  {
   "cell_type": "markdown",
   "metadata": {},
   "source": []
  },
  {
   "cell_type": "code",
   "execution_count": null,
   "metadata": {},
   "outputs": [],
   "source": [
    "datetimeObj:datetime = calculatePeriodUtilExpirationInWeekDay(dateTimeObj)"
   ]
  },
  {
   "cell_type": "markdown",
   "metadata": {},
   "source": [
    "# next try"
   ]
  },
  {
   "cell_type": "markdown",
   "metadata": {},
   "source": [
    "# convertStringToDateTime\n"
   ]
  },
  {
   "cell_type": "code",
   "execution_count": null,
   "metadata": {},
   "outputs": [],
   "source": [
    "from datetime import datetime\n",
    "\n",
    "\n",
    "def convertStringToDateTime(str_date : str) -> datetime:\n",
    "    try:\n",
    "        dateTimeObj = datetime.strptime(str_date, \"%Y%m%d\")\n",
    "        print(f\"Date as type =>  {type(dateTimeObj)} is {dateTimeObj}\")\n",
    "    except Exception as e:\n",
    "        print (\"error: An exception was thrown!\")\n",
    "        print(\"error: \",str(e))\n",
    "        print(\"error file info: \",e.__traceback__.tb_frame)\n",
    "        print(\"error line#: \",e.__traceback__.tb_lineno)\n",
    "    else:\n",
    "        print (\"No Error => Everything looks great!\")\n",
    "    finally:\n",
    "        print (\"Finally => Is called directly after executing the try statement WHETHER an exception is thrown or not.\")\n",
    "        # return :-)\n",
    "        return dateTimeObj"
   ]
  },
  {
   "cell_type": "code",
   "execution_count": 7,
   "metadata": {},
   "outputs": [],
   "source": [
    "# from datetime import date\n",
    "# from datetime import datetime\n",
    "from datetime import date,datetime, timedelta\n",
    "\n",
    "\n",
    "def days_until(target_date:datetime):\n",
    "    \n",
    "    result=None\n",
    "    \n",
    "    try:\n",
    "        today = date.today()\n",
    "        print(\"today : type {}:{} \".format(today,type(today)))\n",
    "\n",
    "        # print(\"datetime :type => {} : {}\".format(today_datetime,type(today_datetime)))\n",
    "\n",
    "\n",
    "        # delta = target_date - today\n",
    "        # print (\" Delta with weekends = > {} \".format(delta.days))\n",
    "        # result = delta.days\n",
    "\n",
    "        print(\"weekday as number => {} {}\".format(today.isoweekday(),target_date.isoweekday()))\n",
    "\n",
    "        # print(\"days with weekend {} \".format((target_date - today).days))\n",
    "\n",
    "        next_day = today\n",
    "        # datetime.timedelta(days=1, hours=0)\n",
    "        \n",
    "        print(\" day plus one day => {}\".format(next_day) )\n",
    "        \n",
    "        \n",
    "    except Exception as e:\n",
    "        print (\"error: An exception was thrown!\")\n",
    "        print(\"error: \",str(e))\n",
    "        print(\"error file info: \",e.__traceback__.tb_frame)\n",
    "        print(\"error line#: \",e.__traceback__.tb_lineno)\n",
    "    finally:\n",
    "        return result\n",
    "\n",
    "def calculatePeriodUtilExpirationInWeekDay(dateTimeObj):\n",
    "    try:\n",
    "        # extract from datetime the date\n",
    "        print(type(dateTimeObj))\n",
    "        # very important date vs date() :-)\n",
    "        # WRONG call date_util_with_type_datetime\n",
    "        future_date = dateTimeObj\n",
    "        days_left = days_until(future_date)\n",
    "        print(f\"Days until {future_date}: {days_left}\")\n",
    "    except Exception as e:\n",
    "        print (\"error: An exception was thrown!\")\n",
    "        print(\"error: \",str(e))\n",
    "        print(\"error file info: \",e.__traceback__.tb_frame)\n",
    "        print(\"error line#: \",e.__traceback__.tb_lineno)\n",
    "    else:\n",
    "        print (\"No Error => Everything looks great!\")\n",
    "    finally:\n",
    "        print (\"Finally => Is called directly after executing the try statement WHETHER an exception is thrown or not.\")"
   ]
  },
  {
   "cell_type": "markdown",
   "metadata": {},
   "source": [
    "# main part str date => datetime to calc only weekdays "
   ]
  },
  {
   "cell_type": "code",
   "execution_count": 8,
   "metadata": {},
   "outputs": [
    {
     "name": "stdout",
     "output_type": "stream",
     "text": [
      "Date as type =>  <class 'datetime.datetime'> is 2025-04-17 00:00:00\n",
      "No Error => Everything looks great!\n",
      "Finally => Is called directly after executing the try statement WHETHER an exception is thrown or not.\n",
      "Type <class 'datetime.datetime'> with value 2025-04-17 00:00:00\n",
      "today : type 2025-04-10:<class 'datetime.date'> \n",
      "weekday as number => 4 4\n",
      " day plus one day => 2025-04-10\n",
      "target day in \n"
     ]
    }
   ],
   "source": [
    "lastTradeDateOrContractMonth='20250417'\n",
    "\n",
    "dateTimeObj:datetime = convertStringToDateTime(lastTradeDateOrContractMonth)\n",
    "\n",
    "print(\"Type {} with value {}\".format(type(dateTimeObj),dateTimeObj))\n",
    "\n",
    "target_days_util = days_until(dateTimeObj)\n",
    "\n",
    "\n",
    "print(\"target day in \".format(target_days_util))"
   ]
  }
 ],
 "metadata": {
  "kernelspec": {
   "display_name": ".venv",
   "language": "python",
   "name": "python3"
  },
  "language_info": {
   "codemirror_mode": {
    "name": "ipython",
    "version": 3
   },
   "file_extension": ".py",
   "mimetype": "text/x-python",
   "name": "python",
   "nbconvert_exporter": "python",
   "pygments_lexer": "ipython3",
   "version": "3.11.2"
  }
 },
 "nbformat": 4,
 "nbformat_minor": 2
}
