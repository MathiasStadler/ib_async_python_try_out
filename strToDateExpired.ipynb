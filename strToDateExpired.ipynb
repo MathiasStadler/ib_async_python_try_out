{
 "cells": [
  {
   "cell_type": "markdown",
   "metadata": {},
   "source": [
    "# target of notebook => calculate days to expired a stock option\n",
    "## convert str to date\n",
    "## calculate timeframe between today and future date in days"
   ]
  },
  {
   "cell_type": "markdown",
   "metadata": {},
   "source": [
    "# target date and its format => lastTradeDateOrContractMonth='20250417'"
   ]
  },
  {
   "cell_type": "markdown",
   "metadata": {},
   "source": [
    "# convert the format string to date python object"
   ]
  },
  {
   "cell_type": "markdown",
   "metadata": {},
   "source": [
    "<div class=\"alert alert-block alert-info\">\n",
    "\n",
    "📝 [python simple error handling](https://stackoverflow.com/questions/4990718/how-can-i-write-a-try-except-block-that-catches-all-exceptions)\n",
    "\n",
    "```python\n",
    "import traceback\n",
    "\n",
    "try:\n",
    "    # your code goes here\n",
    "    print \"Performing an action which may throw an exception.\"\n",
    "\n",
    "    x = 2/0\n",
    "except Exception as e:\n",
    "    print(e)\n",
    "    traceback.print_exc()\n",
    "```\n",
    "</div>"
   ]
  },
  {
   "cell_type": "markdown",
   "metadata": {},
   "source": [
    "## test"
   ]
  },
  {
   "cell_type": "code",
   "execution_count": null,
   "metadata": {},
   "outputs": [],
   "source": [
    "import traceback\n",
    "\n",
    "try:\n",
    "    # your code goes here\n",
    "    print(\"Performing an action which may throw an exception.\")\n",
    "    x = 2/0\n",
    "\n",
    "except Exception as e:\n",
    "    # print(e)\n",
    "    # traceback.print_exc()\n",
    "    print(\"error: \",e)\n",
    "    print(\"error file info: \",e.__traceback__.tb_frame)\n",
    "    print(\"error line#: \",e.__traceback__.tb_lineno)"
   ]
  },
  {
   "cell_type": "markdown",
   "metadata": {},
   "source": [
    "<div class=\"alert alert-block alert-info\">\n",
    "\n",
    "📝 [How can I write a `try`/`except` block that catches all exceptions?](https://stackoverflow.com/questions/4990718/how-can-i-write-a-try-except-block-that-catches-all-exceptions)\n",
    "\n",
    "📝 [try - defining-clean-up-actions](http://docs.python.org/tutorial/errors.html#defining-clean-up-actions)\n",
    "\n",
    "\n",
    "```python\n",
    "try:\n",
    "    print (\"Performing an action which may throw an exception.\")\n",
    "except Exception.error:\n",
    "    print (\"An exception was thrown!\")\n",
    "    print (str(error))\n",
    "else:\n",
    "    print (\"Everything looks great!\")\n",
    "finally:\n",
    "    print (\"Finally is called directly after executing the try statement whether an exception is thrown or not.\")\n",
    "```\n",
    "</div>"
   ]
  },
  {
   "cell_type": "markdown",
   "metadata": {},
   "source": [
    "# best case"
   ]
  },
  {
   "cell_type": "code",
   "execution_count": null,
   "metadata": {},
   "outputs": [],
   "source": [
    "from copy import error\n",
    "\n",
    "try:\n",
    "    print (\"Performing an action which may throw an exception.\")\n",
    "except Exception.error:\n",
    "    print (\"An exception was thrown!\")\n",
    "    print (str(error))\n",
    "else:\n",
    "    print (\"Everything looks great!\")\n",
    "finally:\n",
    "    print (\"Finally is called directly after executing the try statement whether an exception is thrown or not.\")"
   ]
  },
  {
   "cell_type": "markdown",
   "metadata": {},
   "source": [
    "# ```python except Exception as e:``` instead of ```python except Exception.error:``` "
   ]
  },
  {
   "cell_type": "code",
   "execution_count": null,
   "metadata": {},
   "outputs": [],
   "source": [
    "try:\n",
    "    print (\"Performing an action which may throw an exception.\")\n",
    "except Exception as e:\n",
    "    print (\"An exception was thrown!\")\n",
    "    print(\"error: \",str(e))\n",
    "    print(\"error file info: \",e.__traceback__.tb_frame)\n",
    "    print(\"error line#: \",e.__traceback__.tb_lineno)\n",
    "else:\n",
    "    print (\"Everything looks great!\")\n",
    "finally:\n",
    "    print (\"Finally is called directly after executing the try statement whether an exception is thrown or not.\")"
   ]
  },
  {
   "cell_type": "markdown",
   "metadata": {},
   "source": [
    "# bad case"
   ]
  },
  {
   "cell_type": "code",
   "execution_count": null,
   "metadata": {},
   "outputs": [],
   "source": [
    "try:\n",
    "    print (\"Performing an action which may throw an exception.\")\n",
    "    x=2/0\n",
    "except Exception.error:\n",
    "    print (\"An exception was thrown!\")\n",
    "    print (str(error))\n",
    "else:\n",
    "    print (\"Everything looks great!\")\n",
    "finally:\n",
    "    print (\"Finally is called directly after executing the try statement whether an exception is thrown or not.\")"
   ]
  },
  {
   "cell_type": "markdown",
   "metadata": {},
   "source": [
    "# ```python except Exception as e:``` instead of ```python except Exception.error:``` "
   ]
  },
  {
   "cell_type": "code",
   "execution_count": null,
   "metadata": {},
   "outputs": [],
   "source": [
    "try:\n",
    "    print (\"Performing an action which may throw an exception.\")\n",
    "    x=2/0\n",
    "except Exception as e:\n",
    "    print (\"error: An exception was thrown!\")\n",
    "    print(\"error: \",str(e))\n",
    "    print(\"error file info: \",e.__traceback__.tb_frame)\n",
    "    print(\"error line#: \",e.__traceback__.tb_lineno)\n",
    "else:\n",
    "    print (\"Everything looks great!\")\n",
    "finally:\n",
    "    print (\"Finally is called directly after executing the try statement whether an exception is thrown or not.\")"
   ]
  },
  {
   "cell_type": "code",
   "execution_count": null,
   "metadata": {},
   "outputs": [],
   "source": [
    "from datetime import datetime\n",
    "\n",
    "\n",
    "def convertStringToDateTime(str_date : str) -> datetime:\n",
    "    try:\n",
    "        dateTimeObj = datetime.strptime(str_date, \"%Y%m%d\")\n",
    "        print(f\"Date as type =>  {type(dateTimeObj)} is {dateTimeObj}\")\n",
    "    except Exception as e:\n",
    "        print (\"error: An exception was thrown!\")\n",
    "        print(\"error: \",str(e))\n",
    "        print(\"error file info: \",e.__traceback__.tb_frame)\n",
    "        print(\"error line#: \",e.__traceback__.tb_lineno)\n",
    "    else:\n",
    "        print (\"No Error => Everything looks great!\")\n",
    "    finally:\n",
    "        print (\"Finally => Is called directly after executing the try statement WHETHER an exception is thrown or not.\")\n",
    "        # return :-)\n",
    "        return dateTimeObj\n",
    "        "
   ]
  },
  {
   "cell_type": "markdown",
   "metadata": {},
   "source": [
    "# call method"
   ]
  },
  {
   "cell_type": "code",
   "execution_count": null,
   "metadata": {},
   "outputs": [],
   "source": [
    "lastTradeDateOrContractMonth='20250417'\n",
    "\n",
    "dateTimeObj:datetime = convertStringToDateTime(lastTradeDateOrContractMonth)\n",
    "\n",
    "print(\"Type {} with value {}\".format(type(dateTimeObj),dateTimeObj))"
   ]
  },
  {
   "cell_type": "markdown",
   "metadata": {},
   "source": [
    "# Calculate the period until expiration in days"
   ]
  },
  {
   "cell_type": "code",
   "execution_count": null,
   "metadata": {},
   "outputs": [],
   "source": [
    "from datetime import date\n",
    "from datetime import datetime\n",
    "\n",
    "# to clean\n",
    "def days_until_temp(target_date:date):\n",
    "    \n",
    "    result=None\n",
    "    \n",
    "    try:\n",
    "        today = date.today()\n",
    "        delta = target_date - today\n",
    "        print (\"{} \".format(delta.days))\n",
    "        result = delta.days\n",
    "    except Exception as e:\n",
    "        print (\"error: An exception was thrown!\")\n",
    "        print(\"error: \",str(e))\n",
    "        print(\"error file info: \",e.__traceback__.tb_frame)\n",
    "        print(\"error line#: \",e.__traceback__.tb_lineno)\n",
    "    finally:\n",
    "        return result\n",
    "\n",
    "def calculatePeriodUtilExpirationInDay(dateTimeObj):\n",
    "    try:\n",
    "        # extract from datetime the date\n",
    "        print(type(dateTimeObj))\n",
    "        # vry important date vs date() :-)\n",
    "        future_date = dateTimeObj.date()\n",
    "        days_left = days_until(future_date)\n",
    "        print(f\"Days until {future_date}: {days_left}\")\n",
    "    except Exception as e:\n",
    "        print (\"error: An exception was thrown!\")\n",
    "        print(\"error: \",str(e))\n",
    "        print(\"error file info: \",e.__traceback__.tb_frame)\n",
    "        print(\"error line#: \",e.__traceback__.tb_lineno)\n",
    "    else:\n",
    "        print (\"No Error => Everything looks great!\")\n",
    "    finally:\n",
    "        print (\"Finally => Is called directly after executing the try statement WHETHER an exception is thrown or not.\")"
   ]
  },
  {
   "cell_type": "markdown",
   "metadata": {},
   "source": [
    "# call method"
   ]
  },
  {
   "cell_type": "code",
   "execution_count": null,
   "metadata": {},
   "outputs": [],
   "source": [
    "datetimeObj:datetime = calculatePeriodUtilExpirationInDay(dateTimeObj)\n"
   ]
  },
  {
   "cell_type": "markdown",
   "metadata": {},
   "source": [
    "# calculate only weekdays\n",
    "\n",
    "## [Here a simple function that compute the number of business days between 2 dates](https://stackoverflow.com/questions/21152490/how-do-i-count-only-weekdays-from-timedelta-in-python)"
   ]
  },
  {
   "cell_type": "code",
   "execution_count": null,
   "metadata": {},
   "outputs": [],
   "source": [
    "from datetime import datetime\n",
    "\n",
    "def business_days(since, until):\n",
    "    since_isoweekday = since.isoweekday() + 1\n",
    "    return len([x for x in range(since_isoweekday,\n",
    "                                 since_isoweekday + (until - since).days)\n",
    "                if x % 7 not in [0, 6]])"
   ]
  },
  {
   "cell_type": "code",
   "execution_count": null,
   "metadata": {},
   "outputs": [],
   "source": [
    "# since = datetime(2025, 4, 9)\n",
    "# until = datetime(2025, 4, 13)\n",
    "since = datetime(20250409)\n",
    "until = datetime(20250413)\n",
    "print(\"Type since {}\".format(type(since)))\n",
    "print(\"Type util {}\".format(type(until)))\n",
    "since = convertStringToDateTime('20250417')\n",
    "util = convertStringToDateTime('20250419')\n",
    "business_days(since, until)"
   ]
  },
  {
   "cell_type": "markdown",
   "metadata": {},
   "source": [
    "# only weekdays"
   ]
  },
  {
   "cell_type": "code",
   "execution_count": null,
   "metadata": {},
   "outputs": [],
   "source": [
    "# from datetime import date\n",
    "# from datetime import datetime\n",
    "from datetime import date,datetime, timedelta\n",
    "\n",
    "# to clean\n",
    "def days_until_temp(target_date:date):\n",
    "    \n",
    "    result=None\n",
    "    \n",
    "    try:\n",
    "        today = date.today()\n",
    "\n",
    "        # date to datetime\n",
    "        #today_datetime = datetime.fromisoformat(date.isoformat())\n",
    "        # today_datetime = datetime.timestamp(datetime.combine(target_date, datetime.min.time()))\n",
    "        # today_datetime.\n",
    "\n",
    "        print(\"datetime :type => {} : {}\".format(today_datetime,type(today_datetime)))\n",
    "\n",
    "\n",
    "        delta = target_date - today\n",
    "        print (\" Delta with weekends = > {} \".format(delta.days))\n",
    "        result = delta.days\n",
    "\n",
    "        print(\"weekday as number => {} {}\".format(today.isoweekday(),target_date.isoweekday()))\n",
    "\n",
    "        print(\"days with weekend {} \".format((target_date - today).days))\n",
    "\n",
    "        next_day = today\n",
    "        # datetime.timedelta(days=1, hours=0)\n",
    "        \n",
    "        print(\" day plus one day => {}\".format(next_day) )\n",
    "        # for x in range(today,target_date):\n",
    "        #     print(x)\n",
    "\n",
    "        # for x in range(today.isoweekday,target_date.isoweekday):\n",
    "        #     print(x)\n",
    "        \n",
    "    except Exception as e:\n",
    "        print (\"error: An exception was thrown!\")\n",
    "        print(\"error: \",str(e))\n",
    "        print(\"error file info: \",e.__traceback__.tb_frame)\n",
    "        print(\"error line#: \",e.__traceback__.tb_lineno)\n",
    "    finally:\n",
    "        return result\n",
    "\n",
    "def calculatePeriodUtilExpirationInWeekDay(dateTimeObj):\n",
    "    try:\n",
    "        # extract from datetime the date\n",
    "        print(type(dateTimeObj))\n",
    "        # very important date vs date() :-)\n",
    "        future_date = dateTimeObj.date()\n",
    "        days_left = days_until(future_date)\n",
    "        print(f\"Days until {future_date}: {days_left}\")\n",
    "    except Exception as e:\n",
    "        print (\"error: An exception was thrown!\")\n",
    "        print(\"error: \",str(e))\n",
    "        print(\"error file info: \",e.__traceback__.tb_frame)\n",
    "        print(\"error line#: \",e.__traceback__.tb_lineno)\n",
    "    else:\n",
    "        print (\"No Error => Everything looks great!\")\n",
    "    finally:\n",
    "        print (\"Finally => Is called directly after executing the try statement WHETHER an exception is thrown or not.\")"
   ]
  },
  {
   "cell_type": "markdown",
   "metadata": {},
   "source": []
  },
  {
   "cell_type": "code",
   "execution_count": null,
   "metadata": {},
   "outputs": [],
   "source": [
    "datetimeObj:datetime = calculatePeriodUtilExpirationInWeekDay(dateTimeObj)"
   ]
  },
  {
   "cell_type": "markdown",
   "metadata": {},
   "source": [
    "# next try"
   ]
  },
  {
   "cell_type": "markdown",
   "metadata": {},
   "source": [
    "# convertStringToDateTime\n"
   ]
  },
  {
   "cell_type": "code",
   "execution_count": null,
   "metadata": {},
   "outputs": [],
   "source": [
    "from datetime import datetime\n",
    "\n",
    "\n",
    "def convertStringToDateTime(str_date : str) -> datetime:\n",
    "    try:\n",
    "        dateTimeObj = datetime.strptime(str_date, \"%Y%m%d\")\n",
    "        print(f\"Date as type =>  {type(dateTimeObj)} is {dateTimeObj}\")\n",
    "    except Exception as e:\n",
    "        print (\"error: An exception was thrown!\")\n",
    "        print(\"error: \",str(e))\n",
    "        print(\"error file info: \",e.__traceback__.tb_frame)\n",
    "        print(\"error line#: \",e.__traceback__.tb_lineno)\n",
    "    else:\n",
    "        print (\"No Error => Everything looks great!\")\n",
    "    finally:\n",
    "        print (\"Finally => Is called directly after executing the try statement WHETHER an exception is thrown or not.\")\n",
    "        # return :-)\n",
    "        return dateTimeObj"
   ]
  },
  {
   "cell_type": "code",
   "execution_count": 65,
   "metadata": {},
   "outputs": [],
   "source": [
    "# from datetime import date\n",
    "# from datetime import datetime\n",
    "from datetime import date,datetime, timedelta\n",
    "\n",
    "\n",
    "def days_until(target_date:datetime):\n",
    "    \n",
    "    result=None\n",
    "    \n",
    "    try:\n",
    "        today = datetime.today()\n",
    "\n",
    "        # should be type datetime:datetime\n",
    "        print(\"today : type {}:{} \".format(today,type(today)))\n",
    "\n",
    "        print(\"today : type {}:{} \".format(today,type(today)))\n",
    "\n",
    "        print(\"today <=> target_date => {}:{} <=>  {}:{}\".format(today,type(today),target_date,type(target_date)))\n",
    "\n",
    "        \n",
    "\n",
    "\n",
    "        # delta = target_date - today\n",
    "        # print (\" Delta with weekends = > {} \".format(delta.days))\n",
    "        # result = delta.days\n",
    "\n",
    "        ## print(\"weekday as number => {} {}\".format(today.isoweekday(),target_date.isoweekday()))\n",
    "\n",
    "        # print(\"days with weekend {} \".format((target_date - today).days))\n",
    "\n",
    "        \n",
    "        # old move to loop\n",
    "        #next_day = today + timedelta(days=1)\n",
    "                \n",
    "        #print(\" day => {} next_day => {}\".format(today,next_day))\n",
    "\n",
    "        # running_date start today\n",
    "        running_date=today\n",
    "        \n",
    "        # weekday counter\n",
    "        weekday_counter = 0\n",
    "\n",
    "        # loop variable\n",
    "        i = 0 \n",
    "        \n",
    "        while True:\n",
    "\n",
    "            # not necessary\n",
    "            # TODO check it\n",
    "            i = i+1\n",
    "            print(\"loop variable i=> {}\".format(i))\n",
    "\n",
    "            running_date = running_date + timedelta(days=1)\n",
    "\n",
    "            print(\" next_day => {}\".format(running_date))\n",
    "\n",
    "            #weekday\n",
    "            print(\" weekday => {}\".format(running_date.weekday()))\n",
    "\n",
    "            \n",
    "            # count days monday util fridays            \n",
    "            if running_date.weekday() >= 0 & running_date.weekday() <= 4 :\n",
    "                weekday_counter = weekday_counter + 1\n",
    "            else:\n",
    "                print(\"Not count date:weekday => {} {}\".format(running_date,running_date.weekday()))\n",
    "\n",
    "            #weekday_counter\n",
    "            print(\" weekday_counter => {}\".format(weekday_counter))\n",
    "\n",
    "\n",
    "            # print(\"running_date > target_date => {}:{} <=>  {}:{}\".format(running_date,type(today),target_date,type(target_date)))\n",
    "            if( running_date > target_date ):\n",
    "                break\n",
    "                \n",
    "    except Exception as e:\n",
    "        print (\"error: An exception was thrown!\")\n",
    "        print(\"error: \",str(e))\n",
    "        print(\"error file info: \",e.__traceback__.tb_frame)\n",
    "        print(\"error line#: \",e.__traceback__.tb_lineno)\n",
    "    finally:\n",
    "        return result\n",
    "\n",
    "def calculatePeriodUtilExpirationInWeekDay(dateTimeObj):\n",
    "    try:\n",
    "        # extract from datetime the date\n",
    "        print(type(dateTimeObj))\n",
    "        # very important date vs date() :-)\n",
    "        # WRONG call date_util_with_type_datetime\n",
    "        future_date = dateTimeObj\n",
    "        days_left = days_until(future_date)\n",
    "        print(f\"Days until {future_date}: {days_left}\")\n",
    "    except Exception as e:\n",
    "        print (\"error: An exception was thrown!\")\n",
    "        print(\"error: \",str(e))\n",
    "        print(\"error file info: \",e.__traceback__.tb_frame)\n",
    "        print(\"error line#: \",e.__traceback__.tb_lineno)\n",
    "    else:\n",
    "        print (\"No Error => Everything looks great!\")\n",
    "    finally:\n",
    "        print (\"Finally => Is called directly after executing the try statement WHETHER an exception is thrown or not.\")"
   ]
  },
  {
   "cell_type": "markdown",
   "metadata": {},
   "source": [
    "# main part str date => datetime to calc only weekdays "
   ]
  },
  {
   "cell_type": "code",
   "execution_count": 66,
   "metadata": {},
   "outputs": [
    {
     "name": "stdout",
     "output_type": "stream",
     "text": [
      "Date as type =>  <class 'datetime.datetime'> is 2025-04-17 00:00:00\n",
      "No Error => Everything looks great!\n",
      "Finally => Is called directly after executing the try statement WHETHER an exception is thrown or not.\n",
      "Type <class 'datetime.datetime'> with value 2025-04-17 00:00:00\n",
      "today : type 2025-04-10 11:19:33.042099:<class 'datetime.datetime'> \n",
      "today : type 2025-04-10 11:19:33.042099:<class 'datetime.datetime'> \n",
      "today <=> target_date => 2025-04-10 11:19:33.042099:<class 'datetime.datetime'> <=>  2025-04-17 00:00:00:<class 'datetime.datetime'>\n",
      "loop variable i=> 1\n",
      " next_day => 2025-04-11 11:19:33.042099\n",
      " weekday => 4\n",
      " weekday_counter => 1\n",
      "loop variable i=> 2\n",
      " next_day => 2025-04-12 11:19:33.042099\n",
      " weekday => 5\n",
      " weekday_counter => 2\n",
      "loop variable i=> 3\n",
      " next_day => 2025-04-13 11:19:33.042099\n",
      " weekday => 6\n",
      " weekday_counter => 3\n",
      "loop variable i=> 4\n",
      " next_day => 2025-04-14 11:19:33.042099\n",
      " weekday => 0\n",
      " weekday_counter => 4\n",
      "loop variable i=> 5\n",
      " next_day => 2025-04-15 11:19:33.042099\n",
      " weekday => 1\n",
      " weekday_counter => 5\n",
      "loop variable i=> 6\n",
      " next_day => 2025-04-16 11:19:33.042099\n",
      " weekday => 2\n",
      " weekday_counter => 6\n",
      "loop variable i=> 7\n",
      " next_day => 2025-04-17 11:19:33.042099\n",
      " weekday => 3\n",
      " weekday_counter => 7\n",
      "target day in \n"
     ]
    }
   ],
   "source": [
    "lastTradeDateOrContractMonth='20250417'\n",
    "\n",
    "dateTimeObj:datetime = convertStringToDateTime(lastTradeDateOrContractMonth)\n",
    "\n",
    "print(\"Type {} with value {}\".format(type(dateTimeObj),dateTimeObj))\n",
    "\n",
    "target_days_util = days_until(dateTimeObj)\n",
    "\n",
    "\n",
    "print(\"target day in \".format(target_days_util))"
   ]
  },
  {
   "cell_type": "markdown",
   "metadata": {},
   "source": [
    "# while loop iterate one"
   ]
  },
  {
   "cell_type": "code",
   "execution_count": 67,
   "metadata": {},
   "outputs": [
    {
     "name": "stdout",
     "output_type": "stream",
     "text": [
      "1\n",
      "2\n",
      "3\n",
      "4\n",
      "5\n",
      "6\n",
      "7\n",
      "8\n",
      "9\n",
      "10\n"
     ]
    }
   ],
   "source": [
    "i = 0 \n",
    "while True:\n",
    "    i = i+1\n",
    "    print(i)\n",
    "    if(i ==10 ):\n",
    "        break\n"
   ]
  }
 ],
 "metadata": {
  "kernelspec": {
   "display_name": ".venv",
   "language": "python",
   "name": "python3"
  },
  "language_info": {
   "codemirror_mode": {
    "name": "ipython",
    "version": 3
   },
   "file_extension": ".py",
   "mimetype": "text/x-python",
   "name": "python",
   "nbconvert_exporter": "python",
   "pygments_lexer": "ipython3",
   "version": "3.11.2"
  }
 },
 "nbformat": 4,
 "nbformat_minor": 2
}
